{
 "cells": [
  {
   "cell_type": "code",
   "execution_count": 1,
   "id": "10c3227e",
   "metadata": {},
   "outputs": [],
   "source": [
    "import pandas as pd\n",
    "import numpy as np\n",
    "import matplotlib as plt\n",
    "import seaborn as sns\n",
    "%matplotlib inline"
   ]
  },
  {
   "cell_type": "code",
   "execution_count": 2,
   "id": "b389fcd6",
   "metadata": {},
   "outputs": [],
   "source": [
    "file = 'Global superstore.txt'"
   ]
  },
  {
   "cell_type": "code",
   "execution_count": 3,
   "id": "87605a64",
   "metadata": {},
   "outputs": [],
   "source": [
    "df = pd.read_csv(file, delimiter='\\t') "
   ]
  },
  {
   "cell_type": "code",
   "execution_count": 4,
   "id": "f4d877ff",
   "metadata": {},
   "outputs": [
    {
     "data": {
      "text/html": [
       "<div>\n",
       "<style scoped>\n",
       "    .dataframe tbody tr th:only-of-type {\n",
       "        vertical-align: middle;\n",
       "    }\n",
       "\n",
       "    .dataframe tbody tr th {\n",
       "        vertical-align: top;\n",
       "    }\n",
       "\n",
       "    .dataframe thead th {\n",
       "        text-align: right;\n",
       "    }\n",
       "</style>\n",
       "<table border=\"1\" class=\"dataframe\">\n",
       "  <thead>\n",
       "    <tr style=\"text-align: right;\">\n",
       "      <th></th>\n",
       "      <th>Row ID</th>\n",
       "      <th>Order ID</th>\n",
       "      <th>Order Date</th>\n",
       "      <th>Ship Date</th>\n",
       "      <th>Ship Mode</th>\n",
       "      <th>Customer ID</th>\n",
       "      <th>Customer Name</th>\n",
       "      <th>Segment</th>\n",
       "      <th>City</th>\n",
       "      <th>State</th>\n",
       "      <th>...</th>\n",
       "      <th>Market</th>\n",
       "      <th>Product ID</th>\n",
       "      <th>Category</th>\n",
       "      <th>Sub-Category</th>\n",
       "      <th>Sales</th>\n",
       "      <th>Quantity</th>\n",
       "      <th>Discount</th>\n",
       "      <th>Profit</th>\n",
       "      <th>Shipping Cost</th>\n",
       "      <th>Order Priority</th>\n",
       "    </tr>\n",
       "  </thead>\n",
       "  <tbody>\n",
       "    <tr>\n",
       "      <th>0</th>\n",
       "      <td>40098</td>\n",
       "      <td>CA-2014-AB10015140-41954</td>\n",
       "      <td>11-11-2014</td>\n",
       "      <td>13-11-2014</td>\n",
       "      <td>First Class</td>\n",
       "      <td>AB-100151402</td>\n",
       "      <td>Aaron Bergman</td>\n",
       "      <td>Consumer</td>\n",
       "      <td>Oklahoma City</td>\n",
       "      <td>Oklahoma</td>\n",
       "      <td>...</td>\n",
       "      <td>USCA</td>\n",
       "      <td>TEC-PH-5816</td>\n",
       "      <td>Technology</td>\n",
       "      <td>Phones</td>\n",
       "      <td>$221.98</td>\n",
       "      <td>2</td>\n",
       "      <td>0.0</td>\n",
       "      <td>$62.15</td>\n",
       "      <td>40.770</td>\n",
       "      <td>High</td>\n",
       "    </tr>\n",
       "    <tr>\n",
       "      <th>1</th>\n",
       "      <td>26341</td>\n",
       "      <td>IN-2014-JR162107-41675</td>\n",
       "      <td>05-02-2014</td>\n",
       "      <td>07-02-2014</td>\n",
       "      <td>Second Class</td>\n",
       "      <td>JR-162107</td>\n",
       "      <td>Justin Ritter</td>\n",
       "      <td>Corporate</td>\n",
       "      <td>Wollongong</td>\n",
       "      <td>New South Wales</td>\n",
       "      <td>...</td>\n",
       "      <td>Asia Pacific</td>\n",
       "      <td>FUR-CH-5379</td>\n",
       "      <td>Furniture</td>\n",
       "      <td>Chairs</td>\n",
       "      <td>$3,709.40</td>\n",
       "      <td>9</td>\n",
       "      <td>0.1</td>\n",
       "      <td>-$288.77</td>\n",
       "      <td>923.630</td>\n",
       "      <td>Critical</td>\n",
       "    </tr>\n",
       "    <tr>\n",
       "      <th>2</th>\n",
       "      <td>25330</td>\n",
       "      <td>IN-2014-CR127307-41929</td>\n",
       "      <td>17-10-2014</td>\n",
       "      <td>18-10-2014</td>\n",
       "      <td>First Class</td>\n",
       "      <td>CR-127307</td>\n",
       "      <td>Craig Reiter</td>\n",
       "      <td>Consumer</td>\n",
       "      <td>Brisbane</td>\n",
       "      <td>Queensland</td>\n",
       "      <td>...</td>\n",
       "      <td>Asia Pacific</td>\n",
       "      <td>TEC-PH-5356</td>\n",
       "      <td>Technology</td>\n",
       "      <td>Phones</td>\n",
       "      <td>$5,175.17</td>\n",
       "      <td>9</td>\n",
       "      <td>0.1</td>\n",
       "      <td>$919.97</td>\n",
       "      <td>915.490</td>\n",
       "      <td>Medium</td>\n",
       "    </tr>\n",
       "    <tr>\n",
       "      <th>3</th>\n",
       "      <td>13524</td>\n",
       "      <td>ES-2014-KM1637548-41667</td>\n",
       "      <td>28-01-2014</td>\n",
       "      <td>30-01-2014</td>\n",
       "      <td>First Class</td>\n",
       "      <td>KM-1637548</td>\n",
       "      <td>Katherine Murray</td>\n",
       "      <td>Home Office</td>\n",
       "      <td>Berlin</td>\n",
       "      <td>Berlin</td>\n",
       "      <td>...</td>\n",
       "      <td>Europe</td>\n",
       "      <td>TEC-PH-5267</td>\n",
       "      <td>Technology</td>\n",
       "      <td>Phones</td>\n",
       "      <td>$2,892.51</td>\n",
       "      <td>5</td>\n",
       "      <td>0.1</td>\n",
       "      <td>-$96.54</td>\n",
       "      <td>910.160</td>\n",
       "      <td>Medium</td>\n",
       "    </tr>\n",
       "    <tr>\n",
       "      <th>4</th>\n",
       "      <td>47221</td>\n",
       "      <td>SG-2014-RH9495111-41948</td>\n",
       "      <td>05-11-2014</td>\n",
       "      <td>06-11-2014</td>\n",
       "      <td>Same Day</td>\n",
       "      <td>RH-9495111</td>\n",
       "      <td>Rick Hansen</td>\n",
       "      <td>Consumer</td>\n",
       "      <td>Dakar</td>\n",
       "      <td>Dakar</td>\n",
       "      <td>...</td>\n",
       "      <td>Africa</td>\n",
       "      <td>TEC-CO-6011</td>\n",
       "      <td>Technology</td>\n",
       "      <td>Copiers</td>\n",
       "      <td>$2,832.96</td>\n",
       "      <td>8</td>\n",
       "      <td>0.0</td>\n",
       "      <td>$311.52</td>\n",
       "      <td>903.040</td>\n",
       "      <td>Critical</td>\n",
       "    </tr>\n",
       "    <tr>\n",
       "      <th>...</th>\n",
       "      <td>...</td>\n",
       "      <td>...</td>\n",
       "      <td>...</td>\n",
       "      <td>...</td>\n",
       "      <td>...</td>\n",
       "      <td>...</td>\n",
       "      <td>...</td>\n",
       "      <td>...</td>\n",
       "      <td>...</td>\n",
       "      <td>...</td>\n",
       "      <td>...</td>\n",
       "      <td>...</td>\n",
       "      <td>...</td>\n",
       "      <td>...</td>\n",
       "      <td>...</td>\n",
       "      <td>...</td>\n",
       "      <td>...</td>\n",
       "      <td>...</td>\n",
       "      <td>...</td>\n",
       "      <td>...</td>\n",
       "      <td>...</td>\n",
       "    </tr>\n",
       "    <tr>\n",
       "      <th>51285</th>\n",
       "      <td>29002</td>\n",
       "      <td>IN-2015-KE1642066-42174</td>\n",
       "      <td>19-06-2015</td>\n",
       "      <td>19-06-2015</td>\n",
       "      <td>Same Day</td>\n",
       "      <td>KE-1642066</td>\n",
       "      <td>Katrina Edelman</td>\n",
       "      <td>Corporate</td>\n",
       "      <td>Kure</td>\n",
       "      <td>Hiroshima</td>\n",
       "      <td>...</td>\n",
       "      <td>Asia Pacific</td>\n",
       "      <td>OFF-FA-3072</td>\n",
       "      <td>Office Supplies</td>\n",
       "      <td>Fasteners</td>\n",
       "      <td>$65.10</td>\n",
       "      <td>5</td>\n",
       "      <td>0.0</td>\n",
       "      <td>$4.50</td>\n",
       "      <td>1.010</td>\n",
       "      <td>Medium</td>\n",
       "    </tr>\n",
       "    <tr>\n",
       "      <th>51286</th>\n",
       "      <td>34337</td>\n",
       "      <td>US-2014-ZD21925140-41765</td>\n",
       "      <td>06-05-2014</td>\n",
       "      <td>10-05-2014</td>\n",
       "      <td>Standard Class</td>\n",
       "      <td>ZD-219251408</td>\n",
       "      <td>Zuschuss Donatelli</td>\n",
       "      <td>Consumer</td>\n",
       "      <td>Chattanooga</td>\n",
       "      <td>Tennessee</td>\n",
       "      <td>...</td>\n",
       "      <td>USCA</td>\n",
       "      <td>FUR-FU-4070</td>\n",
       "      <td>Furniture</td>\n",
       "      <td>Furnishings</td>\n",
       "      <td>$16.72</td>\n",
       "      <td>5</td>\n",
       "      <td>0.2</td>\n",
       "      <td>$3.34</td>\n",
       "      <td>1.930</td>\n",
       "      <td>High</td>\n",
       "    </tr>\n",
       "    <tr>\n",
       "      <th>51287</th>\n",
       "      <td>31315</td>\n",
       "      <td>CA-2012-ZD21925140-41147</td>\n",
       "      <td>26-08-2012</td>\n",
       "      <td>31-08-2012</td>\n",
       "      <td>Second Class</td>\n",
       "      <td>ZD-219251404</td>\n",
       "      <td>Zuschuss Donatelli</td>\n",
       "      <td>Consumer</td>\n",
       "      <td>San Francisco</td>\n",
       "      <td>California</td>\n",
       "      <td>...</td>\n",
       "      <td>USCA</td>\n",
       "      <td>OFF-AR-5321</td>\n",
       "      <td>Office Supplies</td>\n",
       "      <td>Art</td>\n",
       "      <td>$8.56</td>\n",
       "      <td>2</td>\n",
       "      <td>0.0</td>\n",
       "      <td>$2.48</td>\n",
       "      <td>1.580</td>\n",
       "      <td>High</td>\n",
       "    </tr>\n",
       "    <tr>\n",
       "      <th>51288</th>\n",
       "      <td>9596</td>\n",
       "      <td>MX-2013-RB1979518-41322</td>\n",
       "      <td>17-02-2013</td>\n",
       "      <td>21-02-2013</td>\n",
       "      <td>Standard Class</td>\n",
       "      <td>RB-1979518</td>\n",
       "      <td>Ross Baird</td>\n",
       "      <td>Home Office</td>\n",
       "      <td>Valinhos</td>\n",
       "      <td>São Paulo</td>\n",
       "      <td>...</td>\n",
       "      <td>LATAM</td>\n",
       "      <td>OFF-BI-2919</td>\n",
       "      <td>Office Supplies</td>\n",
       "      <td>Binders</td>\n",
       "      <td>$13.44</td>\n",
       "      <td>2</td>\n",
       "      <td>0.0</td>\n",
       "      <td>$2.40</td>\n",
       "      <td>1.003</td>\n",
       "      <td>Medium</td>\n",
       "    </tr>\n",
       "    <tr>\n",
       "      <th>51289</th>\n",
       "      <td>6147</td>\n",
       "      <td>MX-2013-MC1810093-41416</td>\n",
       "      <td>22-05-2013</td>\n",
       "      <td>26-05-2013</td>\n",
       "      <td>Second Class</td>\n",
       "      <td>MC-1810093</td>\n",
       "      <td>Mick Crebagga</td>\n",
       "      <td>Consumer</td>\n",
       "      <td>Tipitapa</td>\n",
       "      <td>Managua</td>\n",
       "      <td>...</td>\n",
       "      <td>LATAM</td>\n",
       "      <td>OFF-PA-3990</td>\n",
       "      <td>Office Supplies</td>\n",
       "      <td>Paper</td>\n",
       "      <td>$61.38</td>\n",
       "      <td>3</td>\n",
       "      <td>0.0</td>\n",
       "      <td>$1.80</td>\n",
       "      <td>1.002</td>\n",
       "      <td>High</td>\n",
       "    </tr>\n",
       "  </tbody>\n",
       "</table>\n",
       "<p>51290 rows × 22 columns</p>\n",
       "</div>"
      ],
      "text/plain": [
       "       Row ID                  Order ID  Order Date   Ship Date  \\\n",
       "0       40098  CA-2014-AB10015140-41954  11-11-2014  13-11-2014   \n",
       "1       26341    IN-2014-JR162107-41675  05-02-2014  07-02-2014   \n",
       "2       25330    IN-2014-CR127307-41929  17-10-2014  18-10-2014   \n",
       "3       13524   ES-2014-KM1637548-41667  28-01-2014  30-01-2014   \n",
       "4       47221   SG-2014-RH9495111-41948  05-11-2014  06-11-2014   \n",
       "...       ...                       ...         ...         ...   \n",
       "51285   29002   IN-2015-KE1642066-42174  19-06-2015  19-06-2015   \n",
       "51286   34337  US-2014-ZD21925140-41765  06-05-2014  10-05-2014   \n",
       "51287   31315  CA-2012-ZD21925140-41147  26-08-2012  31-08-2012   \n",
       "51288    9596   MX-2013-RB1979518-41322  17-02-2013  21-02-2013   \n",
       "51289    6147   MX-2013-MC1810093-41416  22-05-2013  26-05-2013   \n",
       "\n",
       "            Ship Mode   Customer ID       Customer Name      Segment  \\\n",
       "0         First Class  AB-100151402       Aaron Bergman     Consumer   \n",
       "1        Second Class     JR-162107       Justin Ritter    Corporate   \n",
       "2         First Class     CR-127307        Craig Reiter     Consumer   \n",
       "3         First Class    KM-1637548    Katherine Murray  Home Office   \n",
       "4            Same Day    RH-9495111         Rick Hansen     Consumer   \n",
       "...               ...           ...                 ...          ...   \n",
       "51285        Same Day    KE-1642066     Katrina Edelman    Corporate   \n",
       "51286  Standard Class  ZD-219251408  Zuschuss Donatelli     Consumer   \n",
       "51287    Second Class  ZD-219251404  Zuschuss Donatelli     Consumer   \n",
       "51288  Standard Class    RB-1979518          Ross Baird  Home Office   \n",
       "51289    Second Class    MC-1810093       Mick Crebagga     Consumer   \n",
       "\n",
       "                City            State  ...        Market   Product ID  \\\n",
       "0      Oklahoma City         Oklahoma  ...          USCA  TEC-PH-5816   \n",
       "1         Wollongong  New South Wales  ...  Asia Pacific  FUR-CH-5379   \n",
       "2           Brisbane       Queensland  ...  Asia Pacific  TEC-PH-5356   \n",
       "3             Berlin           Berlin  ...        Europe  TEC-PH-5267   \n",
       "4              Dakar            Dakar  ...        Africa  TEC-CO-6011   \n",
       "...              ...              ...  ...           ...          ...   \n",
       "51285           Kure        Hiroshima  ...  Asia Pacific  OFF-FA-3072   \n",
       "51286    Chattanooga        Tennessee  ...          USCA  FUR-FU-4070   \n",
       "51287  San Francisco       California  ...          USCA  OFF-AR-5321   \n",
       "51288       Valinhos        São Paulo  ...         LATAM  OFF-BI-2919   \n",
       "51289       Tipitapa          Managua  ...         LATAM  OFF-PA-3990   \n",
       "\n",
       "              Category Sub-Category      Sales Quantity Discount    Profit  \\\n",
       "0           Technology       Phones    $221.98        2      0.0    $62.15   \n",
       "1            Furniture       Chairs  $3,709.40        9      0.1  -$288.77   \n",
       "2           Technology       Phones  $5,175.17        9      0.1   $919.97   \n",
       "3           Technology       Phones  $2,892.51        5      0.1   -$96.54   \n",
       "4           Technology      Copiers  $2,832.96        8      0.0   $311.52   \n",
       "...                ...          ...        ...      ...      ...       ...   \n",
       "51285  Office Supplies    Fasteners     $65.10        5      0.0     $4.50   \n",
       "51286        Furniture  Furnishings     $16.72        5      0.2     $3.34   \n",
       "51287  Office Supplies          Art      $8.56        2      0.0     $2.48   \n",
       "51288  Office Supplies      Binders     $13.44        2      0.0     $2.40   \n",
       "51289  Office Supplies        Paper     $61.38        3      0.0     $1.80   \n",
       "\n",
       "       Shipping Cost Order Priority  \n",
       "0             40.770           High  \n",
       "1            923.630       Critical  \n",
       "2            915.490         Medium  \n",
       "3            910.160         Medium  \n",
       "4            903.040       Critical  \n",
       "...              ...            ...  \n",
       "51285          1.010         Medium  \n",
       "51286          1.930           High  \n",
       "51287          1.580           High  \n",
       "51288          1.003         Medium  \n",
       "51289          1.002           High  \n",
       "\n",
       "[51290 rows x 22 columns]"
      ]
     },
     "execution_count": 4,
     "metadata": {},
     "output_type": "execute_result"
    }
   ],
   "source": [
    "df"
   ]
  },
  {
   "cell_type": "code",
   "execution_count": 5,
   "id": "34154d06",
   "metadata": {},
   "outputs": [
    {
     "data": {
      "text/plain": [
       "Row ID              int64\n",
       "Order ID           object\n",
       "Order Date         object\n",
       "Ship Date          object\n",
       "Ship Mode          object\n",
       "Customer ID        object\n",
       "Customer Name      object\n",
       "Segment            object\n",
       "City               object\n",
       "State              object\n",
       "Country            object\n",
       "Region             object\n",
       "Market             object\n",
       "Product ID         object\n",
       "Category           object\n",
       "Sub-Category       object\n",
       "Sales              object\n",
       "Quantity            int64\n",
       "Discount          float64\n",
       "Profit             object\n",
       "Shipping Cost     float64\n",
       "Order Priority     object\n",
       "dtype: object"
      ]
     },
     "execution_count": 5,
     "metadata": {},
     "output_type": "execute_result"
    }
   ],
   "source": [
    "df.dtypes"
   ]
  },
  {
   "cell_type": "code",
   "execution_count": 6,
   "id": "7f3df92a",
   "metadata": {},
   "outputs": [],
   "source": [
    "timefmt = \"%d-%m-%Y\"\n",
    "df['Order Date'] = pd.to_datetime(df['Order Date'], format= timefmt, errors ='coerce')"
   ]
  },
  {
   "cell_type": "code",
   "execution_count": 7,
   "id": "7a6f45e6",
   "metadata": {},
   "outputs": [],
   "source": [
    "timefmt = \"%d-%m-%Y\"\n",
    "df['Ship Date'] = pd.to_datetime(df['Ship Date'], format= timefmt, errors ='coerce')"
   ]
  },
  {
   "cell_type": "code",
   "execution_count": 8,
   "id": "61acc925",
   "metadata": {},
   "outputs": [
    {
     "data": {
      "text/plain": [
       "Row ID                     int64\n",
       "Order ID                  object\n",
       "Order Date        datetime64[ns]\n",
       "Ship Date         datetime64[ns]\n",
       "Ship Mode                 object\n",
       "Customer ID               object\n",
       "Customer Name             object\n",
       "Segment                   object\n",
       "City                      object\n",
       "State                     object\n",
       "Country                   object\n",
       "Region                    object\n",
       "Market                    object\n",
       "Product ID                object\n",
       "Category                  object\n",
       "Sub-Category              object\n",
       "Sales                     object\n",
       "Quantity                   int64\n",
       "Discount                 float64\n",
       "Profit                    object\n",
       "Shipping Cost            float64\n",
       "Order Priority            object\n",
       "dtype: object"
      ]
     },
     "execution_count": 8,
     "metadata": {},
     "output_type": "execute_result"
    }
   ],
   "source": [
    "df.dtypes"
   ]
  },
  {
   "cell_type": "code",
   "execution_count": 9,
   "id": "f898b64f",
   "metadata": {},
   "outputs": [
    {
     "data": {
      "text/plain": [
       "Index(['Row ID', 'Order ID', 'Order Date', 'Ship Date', 'Ship Mode',\n",
       "       'Customer ID', 'Customer Name', 'Segment', 'City', 'State', 'Country',\n",
       "       'Region', 'Market', 'Product ID', 'Category', 'Sub-Category', 'Sales',\n",
       "       'Quantity', 'Discount', 'Profit', 'Shipping Cost', 'Order Priority'],\n",
       "      dtype='object')"
      ]
     },
     "execution_count": 9,
     "metadata": {},
     "output_type": "execute_result"
    }
   ],
   "source": [
    "df.columns"
   ]
  },
  {
   "cell_type": "code",
   "execution_count": 10,
   "id": "3ce3f1d0",
   "metadata": {},
   "outputs": [
    {
     "data": {
      "text/plain": [
       "1128380"
      ]
     },
     "execution_count": 10,
     "metadata": {},
     "output_type": "execute_result"
    }
   ],
   "source": [
    "df.size"
   ]
  },
  {
   "cell_type": "code",
   "execution_count": 11,
   "id": "034d9af6",
   "metadata": {},
   "outputs": [
    {
     "data": {
      "text/plain": [
       "Row ID            0\n",
       "Order ID          0\n",
       "Order Date        0\n",
       "Ship Date         0\n",
       "Ship Mode         0\n",
       "Customer ID       0\n",
       "Customer Name     0\n",
       "Segment           0\n",
       "City              0\n",
       "State             0\n",
       "Country           0\n",
       "Region            0\n",
       "Market            0\n",
       "Product ID        0\n",
       "Category          0\n",
       "Sub-Category      0\n",
       "Sales             0\n",
       "Quantity          0\n",
       "Discount          0\n",
       "Profit            0\n",
       "Shipping Cost     0\n",
       "Order Priority    0\n",
       "dtype: int64"
      ]
     },
     "execution_count": 11,
     "metadata": {},
     "output_type": "execute_result"
    }
   ],
   "source": [
    "df.isnull().sum()"
   ]
  },
  {
   "cell_type": "code",
   "execution_count": 12,
   "id": "86475f65",
   "metadata": {},
   "outputs": [
    {
     "data": {
      "text/html": [
       "<div>\n",
       "<style scoped>\n",
       "    .dataframe tbody tr th:only-of-type {\n",
       "        vertical-align: middle;\n",
       "    }\n",
       "\n",
       "    .dataframe tbody tr th {\n",
       "        vertical-align: top;\n",
       "    }\n",
       "\n",
       "    .dataframe thead th {\n",
       "        text-align: right;\n",
       "    }\n",
       "</style>\n",
       "<table border=\"1\" class=\"dataframe\">\n",
       "  <thead>\n",
       "    <tr style=\"text-align: right;\">\n",
       "      <th></th>\n",
       "      <th>Row ID</th>\n",
       "      <th>Order ID</th>\n",
       "      <th>Order Date</th>\n",
       "      <th>Ship Date</th>\n",
       "      <th>Ship Mode</th>\n",
       "      <th>Customer ID</th>\n",
       "      <th>Customer Name</th>\n",
       "      <th>Segment</th>\n",
       "      <th>City</th>\n",
       "      <th>State</th>\n",
       "      <th>...</th>\n",
       "      <th>Market</th>\n",
       "      <th>Product ID</th>\n",
       "      <th>Category</th>\n",
       "      <th>Sub-Category</th>\n",
       "      <th>Sales</th>\n",
       "      <th>Quantity</th>\n",
       "      <th>Discount</th>\n",
       "      <th>Profit</th>\n",
       "      <th>Shipping Cost</th>\n",
       "      <th>Order Priority</th>\n",
       "    </tr>\n",
       "  </thead>\n",
       "  <tbody>\n",
       "  </tbody>\n",
       "</table>\n",
       "<p>0 rows × 22 columns</p>\n",
       "</div>"
      ],
      "text/plain": [
       "Empty DataFrame\n",
       "Columns: [Row ID, Order ID, Order Date, Ship Date, Ship Mode, Customer ID, Customer Name, Segment, City, State, Country, Region, Market, Product ID, Category, Sub-Category, Sales, Quantity, Discount, Profit, Shipping Cost, Order Priority]\n",
       "Index: []\n",
       "\n",
       "[0 rows x 22 columns]"
      ]
     },
     "execution_count": 12,
     "metadata": {},
     "output_type": "execute_result"
    }
   ],
   "source": [
    "df[df.duplicated()]"
   ]
  },
  {
   "cell_type": "markdown",
   "id": "78fb475d",
   "metadata": {},
   "source": [
    "# How many total orders have been placed?"
   ]
  },
  {
   "cell_type": "code",
   "execution_count": 13,
   "id": "54cc4dab",
   "metadata": {},
   "outputs": [
    {
     "data": {
      "text/plain": [
       "51290"
      ]
     },
     "execution_count": 13,
     "metadata": {},
     "output_type": "execute_result"
    }
   ],
   "source": [
    "df['Order ID'].value_counts().sum()"
   ]
  },
  {
   "cell_type": "markdown",
   "id": "994487db",
   "metadata": {},
   "source": [
    "#  How many orders has been placed between 2014-06-26 to 2015-10-18?"
   ]
  },
  {
   "cell_type": "code",
   "execution_count": 14,
   "id": "f4d2e76e",
   "metadata": {},
   "outputs": [],
   "source": [
    "start_date = '2014-06-26'\n",
    "end_date = '2015-10-18'\n",
    "filtered_orders = df[(df['Order Date'] >= start_date) & (df['Order Date'] <= end_date)]"
   ]
  },
  {
   "cell_type": "code",
   "execution_count": 15,
   "id": "38aaed1b",
   "metadata": {},
   "outputs": [
    {
     "data": {
      "text/html": [
       "<div>\n",
       "<style scoped>\n",
       "    .dataframe tbody tr th:only-of-type {\n",
       "        vertical-align: middle;\n",
       "    }\n",
       "\n",
       "    .dataframe tbody tr th {\n",
       "        vertical-align: top;\n",
       "    }\n",
       "\n",
       "    .dataframe thead th {\n",
       "        text-align: right;\n",
       "    }\n",
       "</style>\n",
       "<table border=\"1\" class=\"dataframe\">\n",
       "  <thead>\n",
       "    <tr style=\"text-align: right;\">\n",
       "      <th></th>\n",
       "      <th>Row ID</th>\n",
       "      <th>Order ID</th>\n",
       "      <th>Order Date</th>\n",
       "      <th>Ship Date</th>\n",
       "      <th>Ship Mode</th>\n",
       "      <th>Customer ID</th>\n",
       "      <th>Customer Name</th>\n",
       "      <th>Segment</th>\n",
       "      <th>City</th>\n",
       "      <th>State</th>\n",
       "      <th>...</th>\n",
       "      <th>Market</th>\n",
       "      <th>Product ID</th>\n",
       "      <th>Category</th>\n",
       "      <th>Sub-Category</th>\n",
       "      <th>Sales</th>\n",
       "      <th>Quantity</th>\n",
       "      <th>Discount</th>\n",
       "      <th>Profit</th>\n",
       "      <th>Shipping Cost</th>\n",
       "      <th>Order Priority</th>\n",
       "    </tr>\n",
       "  </thead>\n",
       "  <tbody>\n",
       "    <tr>\n",
       "      <th>0</th>\n",
       "      <td>40098</td>\n",
       "      <td>CA-2014-AB10015140-41954</td>\n",
       "      <td>2014-11-11</td>\n",
       "      <td>2014-11-13</td>\n",
       "      <td>First Class</td>\n",
       "      <td>AB-100151402</td>\n",
       "      <td>Aaron Bergman</td>\n",
       "      <td>Consumer</td>\n",
       "      <td>Oklahoma City</td>\n",
       "      <td>Oklahoma</td>\n",
       "      <td>...</td>\n",
       "      <td>USCA</td>\n",
       "      <td>TEC-PH-5816</td>\n",
       "      <td>Technology</td>\n",
       "      <td>Phones</td>\n",
       "      <td>$221.98</td>\n",
       "      <td>2</td>\n",
       "      <td>0.0</td>\n",
       "      <td>$62.15</td>\n",
       "      <td>40.770</td>\n",
       "      <td>High</td>\n",
       "    </tr>\n",
       "    <tr>\n",
       "      <th>2</th>\n",
       "      <td>25330</td>\n",
       "      <td>IN-2014-CR127307-41929</td>\n",
       "      <td>2014-10-17</td>\n",
       "      <td>2014-10-18</td>\n",
       "      <td>First Class</td>\n",
       "      <td>CR-127307</td>\n",
       "      <td>Craig Reiter</td>\n",
       "      <td>Consumer</td>\n",
       "      <td>Brisbane</td>\n",
       "      <td>Queensland</td>\n",
       "      <td>...</td>\n",
       "      <td>Asia Pacific</td>\n",
       "      <td>TEC-PH-5356</td>\n",
       "      <td>Technology</td>\n",
       "      <td>Phones</td>\n",
       "      <td>$5,175.17</td>\n",
       "      <td>9</td>\n",
       "      <td>0.1</td>\n",
       "      <td>$919.97</td>\n",
       "      <td>915.490</td>\n",
       "      <td>Medium</td>\n",
       "    </tr>\n",
       "    <tr>\n",
       "      <th>4</th>\n",
       "      <td>47221</td>\n",
       "      <td>SG-2014-RH9495111-41948</td>\n",
       "      <td>2014-11-05</td>\n",
       "      <td>2014-11-06</td>\n",
       "      <td>Same Day</td>\n",
       "      <td>RH-9495111</td>\n",
       "      <td>Rick Hansen</td>\n",
       "      <td>Consumer</td>\n",
       "      <td>Dakar</td>\n",
       "      <td>Dakar</td>\n",
       "      <td>...</td>\n",
       "      <td>Africa</td>\n",
       "      <td>TEC-CO-6011</td>\n",
       "      <td>Technology</td>\n",
       "      <td>Copiers</td>\n",
       "      <td>$2,832.96</td>\n",
       "      <td>8</td>\n",
       "      <td>0.0</td>\n",
       "      <td>$311.52</td>\n",
       "      <td>903.040</td>\n",
       "      <td>Critical</td>\n",
       "    </tr>\n",
       "    <tr>\n",
       "      <th>5</th>\n",
       "      <td>22732</td>\n",
       "      <td>IN-2014-JM156557-41818</td>\n",
       "      <td>2014-06-28</td>\n",
       "      <td>2014-07-01</td>\n",
       "      <td>Second Class</td>\n",
       "      <td>JM-156557</td>\n",
       "      <td>Jim Mitchum</td>\n",
       "      <td>Corporate</td>\n",
       "      <td>Sydney</td>\n",
       "      <td>New South Wales</td>\n",
       "      <td>...</td>\n",
       "      <td>Asia Pacific</td>\n",
       "      <td>TEC-PH-5842</td>\n",
       "      <td>Technology</td>\n",
       "      <td>Phones</td>\n",
       "      <td>$2,862.68</td>\n",
       "      <td>5</td>\n",
       "      <td>0.1</td>\n",
       "      <td>$763.28</td>\n",
       "      <td>897.350</td>\n",
       "      <td>Critical</td>\n",
       "    </tr>\n",
       "    <tr>\n",
       "      <th>8</th>\n",
       "      <td>40099</td>\n",
       "      <td>CA-2014-AB10015140-41954</td>\n",
       "      <td>2014-11-11</td>\n",
       "      <td>2014-11-13</td>\n",
       "      <td>First Class</td>\n",
       "      <td>AB-100151402</td>\n",
       "      <td>Aaron Bergman</td>\n",
       "      <td>Consumer</td>\n",
       "      <td>Oklahoma City</td>\n",
       "      <td>Oklahoma</td>\n",
       "      <td>...</td>\n",
       "      <td>USCA</td>\n",
       "      <td>FUR-BO-5957</td>\n",
       "      <td>Furniture</td>\n",
       "      <td>Bookcases</td>\n",
       "      <td>$341.96</td>\n",
       "      <td>2</td>\n",
       "      <td>0.0</td>\n",
       "      <td>$54.71</td>\n",
       "      <td>25.270</td>\n",
       "      <td>High</td>\n",
       "    </tr>\n",
       "    <tr>\n",
       "      <th>...</th>\n",
       "      <td>...</td>\n",
       "      <td>...</td>\n",
       "      <td>...</td>\n",
       "      <td>...</td>\n",
       "      <td>...</td>\n",
       "      <td>...</td>\n",
       "      <td>...</td>\n",
       "      <td>...</td>\n",
       "      <td>...</td>\n",
       "      <td>...</td>\n",
       "      <td>...</td>\n",
       "      <td>...</td>\n",
       "      <td>...</td>\n",
       "      <td>...</td>\n",
       "      <td>...</td>\n",
       "      <td>...</td>\n",
       "      <td>...</td>\n",
       "      <td>...</td>\n",
       "      <td>...</td>\n",
       "      <td>...</td>\n",
       "      <td>...</td>\n",
       "    </tr>\n",
       "    <tr>\n",
       "      <th>51280</th>\n",
       "      <td>35112</td>\n",
       "      <td>CA-2014-ZD21925140-41829</td>\n",
       "      <td>2014-07-09</td>\n",
       "      <td>2014-07-09</td>\n",
       "      <td>Same Day</td>\n",
       "      <td>ZD-219251408</td>\n",
       "      <td>Zuschuss Donatelli</td>\n",
       "      <td>Consumer</td>\n",
       "      <td>Jacksonville</td>\n",
       "      <td>Florida</td>\n",
       "      <td>...</td>\n",
       "      <td>USCA</td>\n",
       "      <td>OFF-PA-6474</td>\n",
       "      <td>Office Supplies</td>\n",
       "      <td>Paper</td>\n",
       "      <td>$15.98</td>\n",
       "      <td>2</td>\n",
       "      <td>0.2</td>\n",
       "      <td>$5.00</td>\n",
       "      <td>2.010</td>\n",
       "      <td>Medium</td>\n",
       "    </tr>\n",
       "    <tr>\n",
       "      <th>51281</th>\n",
       "      <td>6039</td>\n",
       "      <td>MX-2015-HG1502518-42164</td>\n",
       "      <td>2015-06-09</td>\n",
       "      <td>2015-06-11</td>\n",
       "      <td>First Class</td>\n",
       "      <td>HG-1502518</td>\n",
       "      <td>Hunter Glantz</td>\n",
       "      <td>Consumer</td>\n",
       "      <td>Bragança Paulista</td>\n",
       "      <td>São Paulo</td>\n",
       "      <td>...</td>\n",
       "      <td>LATAM</td>\n",
       "      <td>OFF-PA-4475</td>\n",
       "      <td>Office Supplies</td>\n",
       "      <td>Paper</td>\n",
       "      <td>$84.00</td>\n",
       "      <td>5</td>\n",
       "      <td>0.0</td>\n",
       "      <td>$9.20</td>\n",
       "      <td>1.019</td>\n",
       "      <td>High</td>\n",
       "    </tr>\n",
       "    <tr>\n",
       "      <th>51282</th>\n",
       "      <td>24175</td>\n",
       "      <td>IN-2015-DB132707-42221</td>\n",
       "      <td>2015-08-05</td>\n",
       "      <td>2015-08-10</td>\n",
       "      <td>Standard Class</td>\n",
       "      <td>DB-132707</td>\n",
       "      <td>Deborah Brumfield</td>\n",
       "      <td>Home Office</td>\n",
       "      <td>Townsville</td>\n",
       "      <td>Queensland</td>\n",
       "      <td>...</td>\n",
       "      <td>Asia Pacific</td>\n",
       "      <td>OFF-BI-3253</td>\n",
       "      <td>Office Supplies</td>\n",
       "      <td>Binders</td>\n",
       "      <td>$58.05</td>\n",
       "      <td>5</td>\n",
       "      <td>0.1</td>\n",
       "      <td>$19.95</td>\n",
       "      <td>1.010</td>\n",
       "      <td>Medium</td>\n",
       "    </tr>\n",
       "    <tr>\n",
       "      <th>51283</th>\n",
       "      <td>24105</td>\n",
       "      <td>IN-2015-KH1633058-42154</td>\n",
       "      <td>2015-05-30</td>\n",
       "      <td>2015-05-30</td>\n",
       "      <td>Same Day</td>\n",
       "      <td>KH-1633058</td>\n",
       "      <td>Katharine Harms</td>\n",
       "      <td>Corporate</td>\n",
       "      <td>Lucknow</td>\n",
       "      <td>Uttar Pradesh</td>\n",
       "      <td>...</td>\n",
       "      <td>Asia Pacific</td>\n",
       "      <td>OFF-PA-4007</td>\n",
       "      <td>Office Supplies</td>\n",
       "      <td>Paper</td>\n",
       "      <td>$26.94</td>\n",
       "      <td>2</td>\n",
       "      <td>0.0</td>\n",
       "      <td>$1.86</td>\n",
       "      <td>1.010</td>\n",
       "      <td>High</td>\n",
       "    </tr>\n",
       "    <tr>\n",
       "      <th>51285</th>\n",
       "      <td>29002</td>\n",
       "      <td>IN-2015-KE1642066-42174</td>\n",
       "      <td>2015-06-19</td>\n",
       "      <td>2015-06-19</td>\n",
       "      <td>Same Day</td>\n",
       "      <td>KE-1642066</td>\n",
       "      <td>Katrina Edelman</td>\n",
       "      <td>Corporate</td>\n",
       "      <td>Kure</td>\n",
       "      <td>Hiroshima</td>\n",
       "      <td>...</td>\n",
       "      <td>Asia Pacific</td>\n",
       "      <td>OFF-FA-3072</td>\n",
       "      <td>Office Supplies</td>\n",
       "      <td>Fasteners</td>\n",
       "      <td>$65.10</td>\n",
       "      <td>5</td>\n",
       "      <td>0.0</td>\n",
       "      <td>$4.50</td>\n",
       "      <td>1.010</td>\n",
       "      <td>Medium</td>\n",
       "    </tr>\n",
       "  </tbody>\n",
       "</table>\n",
       "<p>21104 rows × 22 columns</p>\n",
       "</div>"
      ],
      "text/plain": [
       "       Row ID                  Order ID Order Date  Ship Date       Ship Mode  \\\n",
       "0       40098  CA-2014-AB10015140-41954 2014-11-11 2014-11-13     First Class   \n",
       "2       25330    IN-2014-CR127307-41929 2014-10-17 2014-10-18     First Class   \n",
       "4       47221   SG-2014-RH9495111-41948 2014-11-05 2014-11-06        Same Day   \n",
       "5       22732    IN-2014-JM156557-41818 2014-06-28 2014-07-01    Second Class   \n",
       "8       40099  CA-2014-AB10015140-41954 2014-11-11 2014-11-13     First Class   \n",
       "...       ...                       ...        ...        ...             ...   \n",
       "51280   35112  CA-2014-ZD21925140-41829 2014-07-09 2014-07-09        Same Day   \n",
       "51281    6039   MX-2015-HG1502518-42164 2015-06-09 2015-06-11     First Class   \n",
       "51282   24175    IN-2015-DB132707-42221 2015-08-05 2015-08-10  Standard Class   \n",
       "51283   24105   IN-2015-KH1633058-42154 2015-05-30 2015-05-30        Same Day   \n",
       "51285   29002   IN-2015-KE1642066-42174 2015-06-19 2015-06-19        Same Day   \n",
       "\n",
       "        Customer ID       Customer Name      Segment               City  \\\n",
       "0      AB-100151402       Aaron Bergman     Consumer      Oklahoma City   \n",
       "2         CR-127307        Craig Reiter     Consumer           Brisbane   \n",
       "4        RH-9495111         Rick Hansen     Consumer              Dakar   \n",
       "5         JM-156557         Jim Mitchum    Corporate             Sydney   \n",
       "8      AB-100151402       Aaron Bergman     Consumer      Oklahoma City   \n",
       "...             ...                 ...          ...                ...   \n",
       "51280  ZD-219251408  Zuschuss Donatelli     Consumer       Jacksonville   \n",
       "51281    HG-1502518       Hunter Glantz     Consumer  Bragança Paulista   \n",
       "51282     DB-132707   Deborah Brumfield  Home Office         Townsville   \n",
       "51283    KH-1633058     Katharine Harms    Corporate            Lucknow   \n",
       "51285    KE-1642066     Katrina Edelman    Corporate               Kure   \n",
       "\n",
       "                 State  ...        Market   Product ID         Category  \\\n",
       "0             Oklahoma  ...          USCA  TEC-PH-5816       Technology   \n",
       "2           Queensland  ...  Asia Pacific  TEC-PH-5356       Technology   \n",
       "4                Dakar  ...        Africa  TEC-CO-6011       Technology   \n",
       "5      New South Wales  ...  Asia Pacific  TEC-PH-5842       Technology   \n",
       "8             Oklahoma  ...          USCA  FUR-BO-5957        Furniture   \n",
       "...                ...  ...           ...          ...              ...   \n",
       "51280          Florida  ...          USCA  OFF-PA-6474  Office Supplies   \n",
       "51281        São Paulo  ...         LATAM  OFF-PA-4475  Office Supplies   \n",
       "51282       Queensland  ...  Asia Pacific  OFF-BI-3253  Office Supplies   \n",
       "51283    Uttar Pradesh  ...  Asia Pacific  OFF-PA-4007  Office Supplies   \n",
       "51285        Hiroshima  ...  Asia Pacific  OFF-FA-3072  Office Supplies   \n",
       "\n",
       "      Sub-Category      Sales Quantity Discount   Profit  Shipping Cost  \\\n",
       "0           Phones    $221.98        2      0.0   $62.15         40.770   \n",
       "2           Phones  $5,175.17        9      0.1  $919.97        915.490   \n",
       "4          Copiers  $2,832.96        8      0.0  $311.52        903.040   \n",
       "5           Phones  $2,862.68        5      0.1  $763.28        897.350   \n",
       "8        Bookcases    $341.96        2      0.0   $54.71         25.270   \n",
       "...            ...        ...      ...      ...      ...            ...   \n",
       "51280        Paper     $15.98        2      0.2    $5.00          2.010   \n",
       "51281        Paper     $84.00        5      0.0    $9.20          1.019   \n",
       "51282      Binders     $58.05        5      0.1   $19.95          1.010   \n",
       "51283        Paper     $26.94        2      0.0    $1.86          1.010   \n",
       "51285    Fasteners     $65.10        5      0.0    $4.50          1.010   \n",
       "\n",
       "      Order Priority  \n",
       "0               High  \n",
       "2             Medium  \n",
       "4           Critical  \n",
       "5           Critical  \n",
       "8               High  \n",
       "...              ...  \n",
       "51280         Medium  \n",
       "51281           High  \n",
       "51282         Medium  \n",
       "51283           High  \n",
       "51285         Medium  \n",
       "\n",
       "[21104 rows x 22 columns]"
      ]
     },
     "execution_count": 15,
     "metadata": {},
     "output_type": "execute_result"
    }
   ],
   "source": [
    "filtered_orders "
   ]
  },
  {
   "cell_type": "markdown",
   "id": "31ad8cfe",
   "metadata": {},
   "source": [
    "# What are the different segments?"
   ]
  },
  {
   "cell_type": "code",
   "execution_count": 16,
   "id": "123e8e46",
   "metadata": {},
   "outputs": [],
   "source": [
    "Seg=df['Segment'].value_counts()"
   ]
  },
  {
   "cell_type": "code",
   "execution_count": 17,
   "id": "7d15ecf8",
   "metadata": {},
   "outputs": [
    {
     "data": {
      "text/plain": [
       "<Axes: xlabel='Segment'>"
      ]
     },
     "execution_count": 17,
     "metadata": {},
     "output_type": "execute_result"
    },
    {
     "data": {
      "image/png": "[encoded data removed]",
      "text/plain": [
       "<Figure size 640x480 with 1 Axes>"
      ]
     },
     "metadata": {},
     "output_type": "display_data"
    }
   ],
   "source": [
    "Seg.plot(kind='bar')"
   ]
  },
  {
   "cell_type": "markdown",
   "id": "95c56427",
   "metadata": {},
   "source": [
    "# What are the different categories and count of orders?"
   ]
  },
  {
   "cell_type": "code",
   "execution_count": 18,
   "id": "7bf6a2d9",
   "metadata": {},
   "outputs": [
    {
     "data": {
      "text/plain": [
       "Category\n",
       "Office Supplies    31289\n",
       "Technology         10141\n",
       "Furniture           9860\n",
       "Name: count, dtype: int64"
      ]
     },
     "execution_count": 18,
     "metadata": {},
     "output_type": "execute_result"
    }
   ],
   "source": [
    "category=df['Category'].value_counts()\n",
    "category"
   ]
  },
  {
   "cell_type": "code",
   "execution_count": 19,
   "id": "b9915632",
   "metadata": {},
   "outputs": [],
   "source": [
    "import matplotlib.pyplot as plt"
   ]
  },
  {
   "cell_type": "code",
   "execution_count": 20,
   "id": "f25984f4",
   "metadata": {},
   "outputs": [
    {
     "data": {
      "image/png": "[encoded data removed]",
      "text/plain": [
       "<Figure size 640x480 with 1 Axes>"
      ]
     },
     "metadata": {},
     "output_type": "display_data"
    }
   ],
   "source": [
    "plt.pie(category, labels=category.index, autopct='%1.1f%%', startangle=80);"
   ]
  },
  {
   "cell_type": "markdown",
   "id": "2af1592d",
   "metadata": {},
   "source": [
    "# What is the total sales in each category?"
   ]
  },
  {
   "cell_type": "code",
   "execution_count": 21,
   "id": "cc83851b",
   "metadata": {},
   "outputs": [],
   "source": [
    "df['Sales'] = df['Sales'].replace('[\\$,]', '', regex=True).astype(float)\n",
    "category_sales = df.groupby('Category')['Sales'].sum().sort_values(ascending=False)"
   ]
  },
  {
   "cell_type": "code",
   "execution_count": 22,
   "id": "6463e797",
   "metadata": {},
   "outputs": [
    {
     "data": {
      "text/plain": [
       "Category\n",
       "Technology         4744558.76\n",
       "Furniture          4110453.03\n",
       "Office Supplies    3787495.46\n",
       "Name: Sales, dtype: float64"
      ]
     },
     "execution_count": 22,
     "metadata": {},
     "output_type": "execute_result"
    }
   ],
   "source": [
    "category_sales"
   ]
  },
  {
   "cell_type": "code",
   "execution_count": 23,
   "id": "48cdddcd",
   "metadata": {},
   "outputs": [
    {
     "data": {
      "image/png": "[encoded data removed]",
      "text/plain": [
       "<Figure size 640x480 with 1 Axes>"
      ]
     },
     "metadata": {},
     "output_type": "display_data"
    }
   ],
   "source": [
    "sns.barplot(x=category_sales.index, y=category_sales.values, palette='viridis')\n",
    "plt.show()"
   ]
  },
  {
   "cell_type": "markdown",
   "id": "16bfd2e4",
   "metadata": {},
   "source": [
    "# What is the total profit in each category?"
   ]
  },
  {
   "cell_type": "code",
   "execution_count": 24,
   "id": "0774e2fb",
   "metadata": {},
   "outputs": [],
   "source": [
    "df['Profit'] = df['Profit'].replace('[\\$,]', '', regex=True).astype(float)\n",
    "category_profit = df.groupby('Category')['Profit'].sum().sort_values(ascending=False)"
   ]
  },
  {
   "cell_type": "code",
   "execution_count": 25,
   "id": "849f24c4",
   "metadata": {},
   "outputs": [
    {
     "data": {
      "text/plain": [
       "Category\n",
       "Technology         663779.21\n",
       "Office Supplies    518594.84\n",
       "Furniture          285082.62\n",
       "Name: Profit, dtype: float64"
      ]
     },
     "execution_count": 25,
     "metadata": {},
     "output_type": "execute_result"
    }
   ],
   "source": [
    "category_profit"
   ]
  },
  {
   "cell_type": "code",
   "execution_count": 26,
   "id": "94238a52",
   "metadata": {},
   "outputs": [
    {
     "data": {
      "image/png": "[encoded data removed]",
      "text/plain": [
       "<Figure size 640x480 with 1 Axes>"
      ]
     },
     "metadata": {},
     "output_type": "display_data"
    }
   ],
   "source": [
    "sns.barplot(x=category_profit.index, y=category_profit.values, palette='viridis')\n",
    "plt.show()"
   ]
  },
  {
   "cell_type": "markdown",
   "id": "ebb6e8fa",
   "metadata": {},
   "source": [
    "# What is total Quantity in each category?"
   ]
  },
  {
   "cell_type": "code",
   "execution_count": 27,
   "id": "2e5b1d62",
   "metadata": {},
   "outputs": [
    {
     "data": {
      "text/plain": [
       "Category\n",
       "Furniture           34892\n",
       "Technology          35176\n",
       "Office Supplies    108244\n",
       "Name: Quantity, dtype: int64"
      ]
     },
     "execution_count": 27,
     "metadata": {},
     "output_type": "execute_result"
    }
   ],
   "source": [
    "category_qty = df.groupby('Category')['Quantity'].sum().sort_values(ascending=True)\n",
    "category_qty"
   ]
  },
  {
   "cell_type": "code",
   "execution_count": 28,
   "id": "9f0e3c11",
   "metadata": {},
   "outputs": [
    {
     "data": {
      "image/png": "[encoded data removed]",
      "text/plain": [
       "<Figure size 640x480 with 1 Axes>"
      ]
     },
     "metadata": {},
     "output_type": "display_data"
    }
   ],
   "source": [
    "sns.barplot(y=category_qty.index, x=category_qty.values)\n",
    "plt.show()"
   ]
  },
  {
   "cell_type": "code",
   "execution_count": 29,
   "id": "95ae16c1",
   "metadata": {},
   "outputs": [
    {
     "data": {
      "text/html": [
       "<div>\n",
       "<style scoped>\n",
       "    .dataframe tbody tr th:only-of-type {\n",
       "        vertical-align: middle;\n",
       "    }\n",
       "\n",
       "    .dataframe tbody tr th {\n",
       "        vertical-align: top;\n",
       "    }\n",
       "\n",
       "    .dataframe thead th {\n",
       "        text-align: right;\n",
       "    }\n",
       "</style>\n",
       "<table border=\"1\" class=\"dataframe\">\n",
       "  <thead>\n",
       "    <tr style=\"text-align: right;\">\n",
       "      <th></th>\n",
       "      <th>Row ID</th>\n",
       "      <th>Order ID</th>\n",
       "      <th>Order Date</th>\n",
       "      <th>Ship Date</th>\n",
       "      <th>Ship Mode</th>\n",
       "      <th>Customer ID</th>\n",
       "      <th>Customer Name</th>\n",
       "      <th>Segment</th>\n",
       "      <th>City</th>\n",
       "      <th>State</th>\n",
       "      <th>...</th>\n",
       "      <th>Market</th>\n",
       "      <th>Product ID</th>\n",
       "      <th>Category</th>\n",
       "      <th>Sub-Category</th>\n",
       "      <th>Sales</th>\n",
       "      <th>Quantity</th>\n",
       "      <th>Discount</th>\n",
       "      <th>Profit</th>\n",
       "      <th>Shipping Cost</th>\n",
       "      <th>Order Priority</th>\n",
       "    </tr>\n",
       "  </thead>\n",
       "  <tbody>\n",
       "    <tr>\n",
       "      <th>0</th>\n",
       "      <td>40098</td>\n",
       "      <td>CA-2014-AB10015140-41954</td>\n",
       "      <td>2014-11-11</td>\n",
       "      <td>2014-11-13</td>\n",
       "      <td>First Class</td>\n",
       "      <td>AB-100151402</td>\n",
       "      <td>Aaron Bergman</td>\n",
       "      <td>Consumer</td>\n",
       "      <td>Oklahoma City</td>\n",
       "      <td>Oklahoma</td>\n",
       "      <td>...</td>\n",
       "      <td>USCA</td>\n",
       "      <td>TEC-PH-5816</td>\n",
       "      <td>Technology</td>\n",
       "      <td>Phones</td>\n",
       "      <td>221.98</td>\n",
       "      <td>2</td>\n",
       "      <td>0.0</td>\n",
       "      <td>62.15</td>\n",
       "      <td>40.77</td>\n",
       "      <td>High</td>\n",
       "    </tr>\n",
       "    <tr>\n",
       "      <th>1</th>\n",
       "      <td>26341</td>\n",
       "      <td>IN-2014-JR162107-41675</td>\n",
       "      <td>2014-02-05</td>\n",
       "      <td>2014-02-07</td>\n",
       "      <td>Second Class</td>\n",
       "      <td>JR-162107</td>\n",
       "      <td>Justin Ritter</td>\n",
       "      <td>Corporate</td>\n",
       "      <td>Wollongong</td>\n",
       "      <td>New South Wales</td>\n",
       "      <td>...</td>\n",
       "      <td>Asia Pacific</td>\n",
       "      <td>FUR-CH-5379</td>\n",
       "      <td>Furniture</td>\n",
       "      <td>Chairs</td>\n",
       "      <td>3709.40</td>\n",
       "      <td>9</td>\n",
       "      <td>0.1</td>\n",
       "      <td>-288.77</td>\n",
       "      <td>923.63</td>\n",
       "      <td>Critical</td>\n",
       "    </tr>\n",
       "    <tr>\n",
       "      <th>2</th>\n",
       "      <td>25330</td>\n",
       "      <td>IN-2014-CR127307-41929</td>\n",
       "      <td>2014-10-17</td>\n",
       "      <td>2014-10-18</td>\n",
       "      <td>First Class</td>\n",
       "      <td>CR-127307</td>\n",
       "      <td>Craig Reiter</td>\n",
       "      <td>Consumer</td>\n",
       "      <td>Brisbane</td>\n",
       "      <td>Queensland</td>\n",
       "      <td>...</td>\n",
       "      <td>Asia Pacific</td>\n",
       "      <td>TEC-PH-5356</td>\n",
       "      <td>Technology</td>\n",
       "      <td>Phones</td>\n",
       "      <td>5175.17</td>\n",
       "      <td>9</td>\n",
       "      <td>0.1</td>\n",
       "      <td>919.97</td>\n",
       "      <td>915.49</td>\n",
       "      <td>Medium</td>\n",
       "    </tr>\n",
       "    <tr>\n",
       "      <th>3</th>\n",
       "      <td>13524</td>\n",
       "      <td>ES-2014-KM1637548-41667</td>\n",
       "      <td>2014-01-28</td>\n",
       "      <td>2014-01-30</td>\n",
       "      <td>First Class</td>\n",
       "      <td>KM-1637548</td>\n",
       "      <td>Katherine Murray</td>\n",
       "      <td>Home Office</td>\n",
       "      <td>Berlin</td>\n",
       "      <td>Berlin</td>\n",
       "      <td>...</td>\n",
       "      <td>Europe</td>\n",
       "      <td>TEC-PH-5267</td>\n",
       "      <td>Technology</td>\n",
       "      <td>Phones</td>\n",
       "      <td>2892.51</td>\n",
       "      <td>5</td>\n",
       "      <td>0.1</td>\n",
       "      <td>-96.54</td>\n",
       "      <td>910.16</td>\n",
       "      <td>Medium</td>\n",
       "    </tr>\n",
       "    <tr>\n",
       "      <th>4</th>\n",
       "      <td>47221</td>\n",
       "      <td>SG-2014-RH9495111-41948</td>\n",
       "      <td>2014-11-05</td>\n",
       "      <td>2014-11-06</td>\n",
       "      <td>Same Day</td>\n",
       "      <td>RH-9495111</td>\n",
       "      <td>Rick Hansen</td>\n",
       "      <td>Consumer</td>\n",
       "      <td>Dakar</td>\n",
       "      <td>Dakar</td>\n",
       "      <td>...</td>\n",
       "      <td>Africa</td>\n",
       "      <td>TEC-CO-6011</td>\n",
       "      <td>Technology</td>\n",
       "      <td>Copiers</td>\n",
       "      <td>2832.96</td>\n",
       "      <td>8</td>\n",
       "      <td>0.0</td>\n",
       "      <td>311.52</td>\n",
       "      <td>903.04</td>\n",
       "      <td>Critical</td>\n",
       "    </tr>\n",
       "  </tbody>\n",
       "</table>\n",
       "<p>5 rows × 22 columns</p>\n",
       "</div>"
      ],
      "text/plain": [
       "   Row ID                  Order ID Order Date  Ship Date     Ship Mode  \\\n",
       "0   40098  CA-2014-AB10015140-41954 2014-11-11 2014-11-13   First Class   \n",
       "1   26341    IN-2014-JR162107-41675 2014-02-05 2014-02-07  Second Class   \n",
       "2   25330    IN-2014-CR127307-41929 2014-10-17 2014-10-18   First Class   \n",
       "3   13524   ES-2014-KM1637548-41667 2014-01-28 2014-01-30   First Class   \n",
       "4   47221   SG-2014-RH9495111-41948 2014-11-05 2014-11-06      Same Day   \n",
       "\n",
       "    Customer ID     Customer Name      Segment           City  \\\n",
       "0  AB-100151402     Aaron Bergman     Consumer  Oklahoma City   \n",
       "1     JR-162107     Justin Ritter    Corporate     Wollongong   \n",
       "2     CR-127307      Craig Reiter     Consumer       Brisbane   \n",
       "3    KM-1637548  Katherine Murray  Home Office         Berlin   \n",
       "4    RH-9495111       Rick Hansen     Consumer          Dakar   \n",
       "\n",
       "             State  ...        Market   Product ID    Category Sub-Category  \\\n",
       "0         Oklahoma  ...          USCA  TEC-PH-5816  Technology       Phones   \n",
       "1  New South Wales  ...  Asia Pacific  FUR-CH-5379   Furniture       Chairs   \n",
       "2       Queensland  ...  Asia Pacific  TEC-PH-5356  Technology       Phones   \n",
       "3           Berlin  ...        Europe  TEC-PH-5267  Technology       Phones   \n",
       "4            Dakar  ...        Africa  TEC-CO-6011  Technology      Copiers   \n",
       "\n",
       "     Sales Quantity  Discount  Profit  Shipping Cost  Order Priority  \n",
       "0   221.98        2       0.0   62.15          40.77            High  \n",
       "1  3709.40        9       0.1 -288.77         923.63        Critical  \n",
       "2  5175.17        9       0.1  919.97         915.49          Medium  \n",
       "3  2892.51        5       0.1  -96.54         910.16          Medium  \n",
       "4  2832.96        8       0.0  311.52         903.04        Critical  \n",
       "\n",
       "[5 rows x 22 columns]"
      ]
     },
     "execution_count": 29,
     "metadata": {},
     "output_type": "execute_result"
    }
   ],
   "source": [
    "df.head(5)"
   ]
  },
  {
   "cell_type": "markdown",
   "id": "2a8865cd",
   "metadata": {},
   "source": [
    "# What is total quantity in each sub-category?"
   ]
  },
  {
   "cell_type": "code",
   "execution_count": 30,
   "id": "41d6cbad",
   "metadata": {},
   "outputs": [
    {
     "data": {
      "text/plain": [
       "Sub-Category\n",
       "Tables          3083\n",
       "Machines        4906\n",
       "Appliances      6026\n",
       "Copiers         7454\n",
       "Envelopes       8210\n",
       "Bookcases       8310\n",
       "Supplies        8482\n",
       "Fasteners       9051\n",
       "Labels          9301\n",
       "Accessories    10946\n",
       "Furnishings    11163\n",
       "Phones         11870\n",
       "Chairs         12336\n",
       "Paper          12672\n",
       "Art            16215\n",
       "Storage        16884\n",
       "Binders        21403\n",
       "Name: Quantity, dtype: int64"
      ]
     },
     "execution_count": 30,
     "metadata": {},
     "output_type": "execute_result"
    }
   ],
   "source": [
    "sub_category_qty = df.groupby('Sub-Category')['Quantity'].sum().sort_values(ascending=True)\n",
    "sub_category_qty"
   ]
  },
  {
   "cell_type": "code",
   "execution_count": 31,
   "id": "35f9f834",
   "metadata": {},
   "outputs": [
    {
     "data": {
      "image/png": "[encoded data removed]",
      "text/plain": [
       "<Figure size 640x480 with 1 Axes>"
      ]
     },
     "metadata": {},
     "output_type": "display_data"
    }
   ],
   "source": [
    "sns.barplot(y=sub_category_qty.index, x=sub_category_qty.values, palette='viridis')\n",
    "plt.show()"
   ]
  },
  {
   "cell_type": "markdown",
   "id": "90e74c71",
   "metadata": {},
   "source": [
    "# What is total sales in each sub-category?"
   ]
  },
  {
   "cell_type": "code",
   "execution_count": 32,
   "id": "42edf174",
   "metadata": {},
   "outputs": [
    {
     "data": {
      "text/plain": [
       "Sub-Category\n",
       "Labels           73350.55\n",
       "Fasteners        89495.19\n",
       "Envelopes       169217.58\n",
       "Paper           241787.67\n",
       "Supplies        242811.14\n",
       "Art             371613.70\n",
       "Furnishings     385156.15\n",
       "Binders         461870.09\n",
       "Accessories     749237.28\n",
       "Tables          757042.17\n",
       "Machines        779060.32\n",
       "Appliances     1010535.76\n",
       "Storage        1126813.78\n",
       "Bookcases      1466572.55\n",
       "Chairs         1501682.16\n",
       "Copiers        1509436.51\n",
       "Phones         1706824.65\n",
       "Name: Sales, dtype: float64"
      ]
     },
     "execution_count": 32,
     "metadata": {},
     "output_type": "execute_result"
    }
   ],
   "source": [
    "sub_category_sale = df.groupby('Sub-Category')['Sales'].sum().sort_values(ascending=True)\n",
    "sub_category_sale"
   ]
  },
  {
   "cell_type": "code",
   "execution_count": 33,
   "id": "080b2d2d",
   "metadata": {},
   "outputs": [
    {
     "data": {
      "image/png": "[encoded data removed]",
      "text/plain": [
       "<Figure size 640x480 with 1 Axes>"
      ]
     },
     "metadata": {},
     "output_type": "display_data"
    }
   ],
   "source": [
    "sns.barplot(y=sub_category_sale.index, x=sub_category_sale.values, data=df, orient='h')\n",
    "plt.show()"
   ]
  },
  {
   "cell_type": "markdown",
   "id": "9488f3a3",
   "metadata": {},
   "source": [
    "# What are the different order priority?"
   ]
  },
  {
   "cell_type": "code",
   "execution_count": 34,
   "id": "e0acea4e",
   "metadata": {},
   "outputs": [
    {
     "data": {
      "text/plain": [
       "Order Priority\n",
       "Medium      29433\n",
       "High        15501\n",
       "Critical     3932\n",
       "Low          2424\n",
       "Name: count, dtype: int64"
      ]
     },
     "execution_count": 34,
     "metadata": {},
     "output_type": "execute_result"
    }
   ],
   "source": [
    "order_priority=df['Order Priority'].value_counts()\n",
    "order_priority"
   ]
  },
  {
   "cell_type": "code",
   "execution_count": 35,
   "id": "1b6fe2a2",
   "metadata": {},
   "outputs": [
    {
     "data": {
      "image/png": "[encoded data removed]",
      "text/plain": [
       "<Figure size 640x480 with 1 Axes>"
      ]
     },
     "metadata": {},
     "output_type": "display_data"
    }
   ],
   "source": [
    "plt.pie(order_priority, labels=order_priority.index, autopct='%1.1f%%', startangle=80);"
   ]
  },
  {
   "cell_type": "markdown",
   "id": "6e557a7a",
   "metadata": {},
   "source": [
    "# How many orders placed in each Year?"
   ]
  },
  {
   "cell_type": "code",
   "execution_count": 36,
   "id": "18f62e0d",
   "metadata": {},
   "outputs": [
    {
     "data": {
      "text/plain": [
       "[<matplotlib.lines.Line2D at 0x26899ce0f90>]"
      ]
     },
     "execution_count": 36,
     "metadata": {},
     "output_type": "execute_result"
    },
    {
     "data": {
      "image/png": "[encoded data removed]",
      "text/plain": [
       "<Figure size 800x400 with 1 Axes>"
      ]
     },
     "metadata": {},
     "output_type": "display_data"
    }
   ],
   "source": [
    "df['Year'] = df['Order Date'].dt.year\n",
    "Year=df.Year.value_counts()\n",
    "Year\n",
    "\n",
    "Yearly_Orders = df.groupby('Year')['Order ID'].count()\n",
    "\n",
    "plt.figure(figsize=(8, 4))\n",
    "plt.plot(Yearly_Orders.index, Yearly_Orders.values, marker='o', linestyle='-', color='blue')"
   ]
  },
  {
   "cell_type": "code",
   "execution_count": 37,
   "id": "c3bf9a74",
   "metadata": {},
   "outputs": [
    {
     "data": {
      "text/plain": [
       "Year\n",
       "2015    17531\n",
       "2014    13799\n",
       "2013    10962\n",
       "2012     8998\n",
       "Name: count, dtype: int64"
      ]
     },
     "execution_count": 37,
     "metadata": {},
     "output_type": "execute_result"
    }
   ],
   "source": [
    "df['Year'] = df['Order Date'].dt.year\n",
    "Year=df.Year.value_counts()\n",
    "Year"
   ]
  },
  {
   "cell_type": "markdown",
   "id": "2ff73848",
   "metadata": {},
   "source": [
    "# What are the top 10 States with highest Orders?"
   ]
  },
  {
   "cell_type": "code",
   "execution_count": 38,
   "id": "e7f6d9c5",
   "metadata": {},
   "outputs": [
    {
     "data": {
      "text/plain": [
       "State\n",
       "California                1021\n",
       "England                    770\n",
       "New York                   562\n",
       "Ile-de-France              501\n",
       "Texas                      487\n",
       "New South Wales            388\n",
       "Queensland                 374\n",
       "North Rhine-Westphalia     352\n",
       "San Salvador               307\n",
       "Pennsylvania               288\n",
       "Name: Order ID, dtype: int64"
      ]
     },
     "execution_count": 38,
     "metadata": {},
     "output_type": "execute_result"
    }
   ],
   "source": [
    "states = df.groupby('State')['Order ID'].nunique().sort_values(ascending=False).head(10)\n",
    "states"
   ]
  },
  {
   "cell_type": "code",
   "execution_count": 39,
   "id": "b598f323",
   "metadata": {},
   "outputs": [
    {
     "data": {
      "image/png": "[encoded data removed]",
      "text/plain": [
       "<Figure size 640x480 with 1 Axes>"
      ]
     },
     "metadata": {},
     "output_type": "display_data"
    }
   ],
   "source": [
    "sns.barplot(y=states.index, x=states.values, data=df, palette='rocket')\n",
    "plt.show()"
   ]
  },
  {
   "cell_type": "markdown",
   "id": "f9283a8b",
   "metadata": {},
   "source": [
    "# Add a column- difference between Order date and Ship date"
   ]
  },
  {
   "cell_type": "code",
   "execution_count": 40,
   "id": "9cfdd490",
   "metadata": {},
   "outputs": [],
   "source": [
    "df['diff'] = df['Ship Date'] - df['Order Date']"
   ]
  },
  {
   "cell_type": "code",
   "execution_count": 42,
   "id": "544dabe0",
   "metadata": {},
   "outputs": [
    {
     "data": {
      "text/plain": [
       "0       2 days\n",
       "1       2 days\n",
       "2       1 days\n",
       "3       2 days\n",
       "4       1 days\n",
       "         ...  \n",
       "51285   0 days\n",
       "51286   4 days\n",
       "51287   5 days\n",
       "51288   4 days\n",
       "51289   4 days\n",
       "Name: diff, Length: 51290, dtype: timedelta64[ns]"
      ]
     },
     "execution_count": 42,
     "metadata": {},
     "output_type": "execute_result"
    }
   ],
   "source": [
    "df['diff'] "
   ]
  },
  {
   "cell_type": "code",
   "execution_count": 43,
   "id": "71c23c0a",
   "metadata": {},
   "outputs": [
    {
     "data": {
      "text/html": [
       "<div>\n",
       "<style scoped>\n",
       "    .dataframe tbody tr th:only-of-type {\n",
       "        vertical-align: middle;\n",
       "    }\n",
       "\n",
       "    .dataframe tbody tr th {\n",
       "        vertical-align: top;\n",
       "    }\n",
       "\n",
       "    .dataframe thead th {\n",
       "        text-align: right;\n",
       "    }\n",
       "</style>\n",
       "<table border=\"1\" class=\"dataframe\">\n",
       "  <thead>\n",
       "    <tr style=\"text-align: right;\">\n",
       "      <th></th>\n",
       "      <th>Row ID</th>\n",
       "      <th>Order ID</th>\n",
       "      <th>Order Date</th>\n",
       "      <th>Ship Date</th>\n",
       "      <th>Ship Mode</th>\n",
       "      <th>Customer ID</th>\n",
       "      <th>Customer Name</th>\n",
       "      <th>Segment</th>\n",
       "      <th>City</th>\n",
       "      <th>State</th>\n",
       "      <th>...</th>\n",
       "      <th>Category</th>\n",
       "      <th>Sub-Category</th>\n",
       "      <th>Sales</th>\n",
       "      <th>Quantity</th>\n",
       "      <th>Discount</th>\n",
       "      <th>Profit</th>\n",
       "      <th>Shipping Cost</th>\n",
       "      <th>Order Priority</th>\n",
       "      <th>Year</th>\n",
       "      <th>diff</th>\n",
       "    </tr>\n",
       "  </thead>\n",
       "  <tbody>\n",
       "    <tr>\n",
       "      <th>0</th>\n",
       "      <td>40098</td>\n",
       "      <td>CA-2014-AB10015140-41954</td>\n",
       "      <td>2014-11-11</td>\n",
       "      <td>2014-11-13</td>\n",
       "      <td>First Class</td>\n",
       "      <td>AB-100151402</td>\n",
       "      <td>Aaron Bergman</td>\n",
       "      <td>Consumer</td>\n",
       "      <td>Oklahoma City</td>\n",
       "      <td>Oklahoma</td>\n",
       "      <td>...</td>\n",
       "      <td>Technology</td>\n",
       "      <td>Phones</td>\n",
       "      <td>221.98</td>\n",
       "      <td>2</td>\n",
       "      <td>0.0</td>\n",
       "      <td>62.15</td>\n",
       "      <td>40.77</td>\n",
       "      <td>High</td>\n",
       "      <td>2014</td>\n",
       "      <td>2 days</td>\n",
       "    </tr>\n",
       "    <tr>\n",
       "      <th>1</th>\n",
       "      <td>26341</td>\n",
       "      <td>IN-2014-JR162107-41675</td>\n",
       "      <td>2014-02-05</td>\n",
       "      <td>2014-02-07</td>\n",
       "      <td>Second Class</td>\n",
       "      <td>JR-162107</td>\n",
       "      <td>Justin Ritter</td>\n",
       "      <td>Corporate</td>\n",
       "      <td>Wollongong</td>\n",
       "      <td>New South Wales</td>\n",
       "      <td>...</td>\n",
       "      <td>Furniture</td>\n",
       "      <td>Chairs</td>\n",
       "      <td>3709.40</td>\n",
       "      <td>9</td>\n",
       "      <td>0.1</td>\n",
       "      <td>-288.77</td>\n",
       "      <td>923.63</td>\n",
       "      <td>Critical</td>\n",
       "      <td>2014</td>\n",
       "      <td>2 days</td>\n",
       "    </tr>\n",
       "    <tr>\n",
       "      <th>2</th>\n",
       "      <td>25330</td>\n",
       "      <td>IN-2014-CR127307-41929</td>\n",
       "      <td>2014-10-17</td>\n",
       "      <td>2014-10-18</td>\n",
       "      <td>First Class</td>\n",
       "      <td>CR-127307</td>\n",
       "      <td>Craig Reiter</td>\n",
       "      <td>Consumer</td>\n",
       "      <td>Brisbane</td>\n",
       "      <td>Queensland</td>\n",
       "      <td>...</td>\n",
       "      <td>Technology</td>\n",
       "      <td>Phones</td>\n",
       "      <td>5175.17</td>\n",
       "      <td>9</td>\n",
       "      <td>0.1</td>\n",
       "      <td>919.97</td>\n",
       "      <td>915.49</td>\n",
       "      <td>Medium</td>\n",
       "      <td>2014</td>\n",
       "      <td>1 days</td>\n",
       "    </tr>\n",
       "    <tr>\n",
       "      <th>3</th>\n",
       "      <td>13524</td>\n",
       "      <td>ES-2014-KM1637548-41667</td>\n",
       "      <td>2014-01-28</td>\n",
       "      <td>2014-01-30</td>\n",
       "      <td>First Class</td>\n",
       "      <td>KM-1637548</td>\n",
       "      <td>Katherine Murray</td>\n",
       "      <td>Home Office</td>\n",
       "      <td>Berlin</td>\n",
       "      <td>Berlin</td>\n",
       "      <td>...</td>\n",
       "      <td>Technology</td>\n",
       "      <td>Phones</td>\n",
       "      <td>2892.51</td>\n",
       "      <td>5</td>\n",
       "      <td>0.1</td>\n",
       "      <td>-96.54</td>\n",
       "      <td>910.16</td>\n",
       "      <td>Medium</td>\n",
       "      <td>2014</td>\n",
       "      <td>2 days</td>\n",
       "    </tr>\n",
       "    <tr>\n",
       "      <th>4</th>\n",
       "      <td>47221</td>\n",
       "      <td>SG-2014-RH9495111-41948</td>\n",
       "      <td>2014-11-05</td>\n",
       "      <td>2014-11-06</td>\n",
       "      <td>Same Day</td>\n",
       "      <td>RH-9495111</td>\n",
       "      <td>Rick Hansen</td>\n",
       "      <td>Consumer</td>\n",
       "      <td>Dakar</td>\n",
       "      <td>Dakar</td>\n",
       "      <td>...</td>\n",
       "      <td>Technology</td>\n",
       "      <td>Copiers</td>\n",
       "      <td>2832.96</td>\n",
       "      <td>8</td>\n",
       "      <td>0.0</td>\n",
       "      <td>311.52</td>\n",
       "      <td>903.04</td>\n",
       "      <td>Critical</td>\n",
       "      <td>2014</td>\n",
       "      <td>1 days</td>\n",
       "    </tr>\n",
       "  </tbody>\n",
       "</table>\n",
       "<p>5 rows × 24 columns</p>\n",
       "</div>"
      ],
      "text/plain": [
       "   Row ID                  Order ID Order Date  Ship Date     Ship Mode  \\\n",
       "0   40098  CA-2014-AB10015140-41954 2014-11-11 2014-11-13   First Class   \n",
       "1   26341    IN-2014-JR162107-41675 2014-02-05 2014-02-07  Second Class   \n",
       "2   25330    IN-2014-CR127307-41929 2014-10-17 2014-10-18   First Class   \n",
       "3   13524   ES-2014-KM1637548-41667 2014-01-28 2014-01-30   First Class   \n",
       "4   47221   SG-2014-RH9495111-41948 2014-11-05 2014-11-06      Same Day   \n",
       "\n",
       "    Customer ID     Customer Name      Segment           City  \\\n",
       "0  AB-100151402     Aaron Bergman     Consumer  Oklahoma City   \n",
       "1     JR-162107     Justin Ritter    Corporate     Wollongong   \n",
       "2     CR-127307      Craig Reiter     Consumer       Brisbane   \n",
       "3    KM-1637548  Katherine Murray  Home Office         Berlin   \n",
       "4    RH-9495111       Rick Hansen     Consumer          Dakar   \n",
       "\n",
       "             State  ...    Category Sub-Category    Sales Quantity Discount  \\\n",
       "0         Oklahoma  ...  Technology       Phones   221.98        2      0.0   \n",
       "1  New South Wales  ...   Furniture       Chairs  3709.40        9      0.1   \n",
       "2       Queensland  ...  Technology       Phones  5175.17        9      0.1   \n",
       "3           Berlin  ...  Technology       Phones  2892.51        5      0.1   \n",
       "4            Dakar  ...  Technology      Copiers  2832.96        8      0.0   \n",
       "\n",
       "   Profit  Shipping Cost  Order Priority  Year   diff  \n",
       "0   62.15          40.77            High  2014 2 days  \n",
       "1 -288.77         923.63        Critical  2014 2 days  \n",
       "2  919.97         915.49          Medium  2014 1 days  \n",
       "3  -96.54         910.16          Medium  2014 2 days  \n",
       "4  311.52         903.04        Critical  2014 1 days  \n",
       "\n",
       "[5 rows x 24 columns]"
      ]
     },
     "execution_count": 43,
     "metadata": {},
     "output_type": "execute_result"
    }
   ],
   "source": [
    "df.head(5)"
   ]
  },
  {
   "cell_type": "markdown",
   "id": "bcf8d991",
   "metadata": {},
   "source": [
    "# Find total orders in each ship mode"
   ]
  },
  {
   "cell_type": "code",
   "execution_count": 44,
   "id": "7be94977",
   "metadata": {},
   "outputs": [
    {
     "data": {
      "text/plain": [
       "Ship Mode\n",
       "Standard Class    30775\n",
       "Second Class      10309\n",
       "First Class        7505\n",
       "Same Day           2701\n",
       "Name: count, dtype: int64"
      ]
     },
     "execution_count": 44,
     "metadata": {},
     "output_type": "execute_result"
    }
   ],
   "source": [
    "ship_mode=df['Ship Mode'].value_counts()\n",
    "ship_mode"
   ]
  },
  {
   "cell_type": "code",
   "execution_count": 45,
   "id": "b7e2438e",
   "metadata": {},
   "outputs": [
    {
     "data": {
      "image/png": "[encoded data removed]",
      "text/plain": [
       "<Figure size 640x480 with 1 Axes>"
      ]
     },
     "metadata": {},
     "output_type": "display_data"
    }
   ],
   "source": [
    "plt.pie(ship_mode, labels=ship_mode.index, autopct='%1.1f%%', startangle=80);"
   ]
  },
  {
   "cell_type": "markdown",
   "id": "67f5fc39",
   "metadata": {},
   "source": [
    "# What are the top 10 states with highest shipping cost"
   ]
  },
  {
   "cell_type": "code",
   "execution_count": 46,
   "id": "cd115ae7",
   "metadata": {
    "scrolled": true
   },
   "outputs": [
    {
     "data": {
      "text/plain": [
       "State\n",
       "New York           933.57\n",
       "New South Wales    923.63\n",
       "Queensland         915.49\n",
       "Berlin             910.16\n",
       "Dakar              903.04\n",
       "Wellington         894.77\n",
       "Waikato            878.38\n",
       "California         867.69\n",
       "North Carolina     865.74\n",
       "Virginia           846.54\n",
       "Name: Shipping Cost, dtype: float64"
      ]
     },
     "execution_count": 46,
     "metadata": {},
     "output_type": "execute_result"
    }
   ],
   "source": [
    "shipping_cost = df.groupby('State')['Shipping Cost'].max().sort_values(ascending=False).head(10)\n",
    "shipping_cost"
   ]
  },
  {
   "cell_type": "code",
   "execution_count": 47,
   "id": "4d8b675c",
   "metadata": {},
   "outputs": [
    {
     "data": {
      "image/png": "[encoded data removed]",
      "text/plain": [
       "<Figure size 640x480 with 1 Axes>"
      ]
     },
     "metadata": {},
     "output_type": "display_data"
    }
   ],
   "source": [
    "sns.barplot(x=shipping_cost.index, y=shipping_cost.values, data=df, palette=\"YlOrBr\")\n",
    "plt.xticks(rotation=45)\n",
    "plt.show();"
   ]
  },
  {
   "cell_type": "code",
   "execution_count": null,
   "id": "b0614dac",
   "metadata": {},
   "outputs": [],
   "source": []
  }
 ],
 "metadata": {
  "kernelspec": {
   "display_name": "Python 3 (ipykernel)",
   "language": "python",
   "name": "python3"
  },
  "language_info": {
   "codemirror_mode": {
    "name": "ipython",
    "version": 3
   },
   "file_extension": ".py",
   "mimetype": "text/x-python",
   "name": "python",
   "nbconvert_exporter": "python",
   "pygments_lexer": "ipython3",
   "version": "3.11.4"
  }
 },
 "nbformat": 4,
 "nbformat_minor": 5
}
