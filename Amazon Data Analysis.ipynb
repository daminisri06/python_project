{
 "cells": [
  {
   "cell_type": "code",
   "execution_count": 2,
   "id": "d9fe25fb",
   "metadata": {},
   "outputs": [],
   "source": [
    "import pandas as pd\n",
    "import seaborn as sns\n",
    "import matplotlib\n",
    "import matplotlib.pyplot as plt\n",
    "%matplotlib inline\n",
    "\n",
    "sns.set_style('darkgrid')\n",
    "matplotlib.rcParams['font.size'] = 14\n",
    "matplotlib.rcParams['figure.figsize'] = (9, 5)\n",
    "matplotlib.rcParams['figure.facecolor'] = '#00000000'"
   ]
  },
  {
   "cell_type": "code",
   "execution_count": 3,
   "id": "87109e5b",
   "metadata": {},
   "outputs": [],
   "source": [
    "data = pd.read_csv('Amazon_data_file.csv')"
   ]
  },
  {
   "cell_type": "code",
   "execution_count": 4,
   "id": "1a535062",
   "metadata": {},
   "outputs": [
    {
     "data": {
      "text/html": [
       "<div>\n",
       "<style scoped>\n",
       "    .dataframe tbody tr th:only-of-type {\n",
       "        vertical-align: middle;\n",
       "    }\n",
       "\n",
       "    .dataframe tbody tr th {\n",
       "        vertical-align: top;\n",
       "    }\n",
       "\n",
       "    .dataframe thead th {\n",
       "        text-align: right;\n",
       "    }\n",
       "</style>\n",
       "<table border=\"1\" class=\"dataframe\">\n",
       "  <thead>\n",
       "    <tr style=\"text-align: right;\">\n",
       "      <th></th>\n",
       "      <th>Order ID</th>\n",
       "      <th>Date</th>\n",
       "      <th>Status</th>\n",
       "      <th>Fulfilment</th>\n",
       "      <th>Sales Channel</th>\n",
       "      <th>ship-service-level</th>\n",
       "      <th>Style</th>\n",
       "      <th>SKU</th>\n",
       "      <th>Category</th>\n",
       "      <th>Size</th>\n",
       "      <th>ASIN</th>\n",
       "      <th>Courier Status</th>\n",
       "      <th>Qty</th>\n",
       "      <th>Amount</th>\n",
       "      <th>ship-city</th>\n",
       "      <th>ship-state</th>\n",
       "      <th>ship-postal-code</th>\n",
       "    </tr>\n",
       "  </thead>\n",
       "  <tbody>\n",
       "    <tr>\n",
       "      <th>0</th>\n",
       "      <td>171-9198151-1101146</td>\n",
       "      <td>30-04-2022</td>\n",
       "      <td>Shipped - Delivered to Buyer</td>\n",
       "      <td>Merchant</td>\n",
       "      <td>Amazon.in</td>\n",
       "      <td>Standard</td>\n",
       "      <td>JNE3781</td>\n",
       "      <td>JNE3781-KR-XXXL</td>\n",
       "      <td>kurta</td>\n",
       "      <td>3XL</td>\n",
       "      <td>B09K3WFS32</td>\n",
       "      <td>Shipped</td>\n",
       "      <td>1</td>\n",
       "      <td>406</td>\n",
       "      <td>BENGALURU</td>\n",
       "      <td>KARNATAKA</td>\n",
       "      <td>560085</td>\n",
       "    </tr>\n",
       "    <tr>\n",
       "      <th>1</th>\n",
       "      <td>404-0687676-7273146</td>\n",
       "      <td>30-04-2022</td>\n",
       "      <td>Shipped</td>\n",
       "      <td>Amazon</td>\n",
       "      <td>Amazon.in</td>\n",
       "      <td>Expedited</td>\n",
       "      <td>JNE3371</td>\n",
       "      <td>JNE3371-KR-XL</td>\n",
       "      <td>kurta</td>\n",
       "      <td>XL</td>\n",
       "      <td>B07WV4JV4D</td>\n",
       "      <td>Shipped</td>\n",
       "      <td>1</td>\n",
       "      <td>329</td>\n",
       "      <td>NAVI MUMBAI</td>\n",
       "      <td>MAHARASHTRA</td>\n",
       "      <td>410210</td>\n",
       "    </tr>\n",
       "    <tr>\n",
       "      <th>2</th>\n",
       "      <td>407-1069790-7240320</td>\n",
       "      <td>30-04-2022</td>\n",
       "      <td>Shipped</td>\n",
       "      <td>Amazon</td>\n",
       "      <td>Amazon.in</td>\n",
       "      <td>Expedited</td>\n",
       "      <td>JNE3671</td>\n",
       "      <td>JNE3671-TU-XXXL</td>\n",
       "      <td>Top</td>\n",
       "      <td>3XL</td>\n",
       "      <td>B098714BZP</td>\n",
       "      <td>Shipped</td>\n",
       "      <td>1</td>\n",
       "      <td>574</td>\n",
       "      <td>CHENNAI</td>\n",
       "      <td>TAMIL NADU</td>\n",
       "      <td>600073</td>\n",
       "    </tr>\n",
       "    <tr>\n",
       "      <th>3</th>\n",
       "      <td>404-1490984-4578765</td>\n",
       "      <td>30-04-2022</td>\n",
       "      <td>Shipped</td>\n",
       "      <td>Amazon</td>\n",
       "      <td>Amazon.in</td>\n",
       "      <td>Expedited</td>\n",
       "      <td>SET264</td>\n",
       "      <td>SET264-KR-NP-XL</td>\n",
       "      <td>Set</td>\n",
       "      <td>XL</td>\n",
       "      <td>B08YN7XDSG</td>\n",
       "      <td>Shipped</td>\n",
       "      <td>1</td>\n",
       "      <td>824</td>\n",
       "      <td>GHAZIABAD</td>\n",
       "      <td>UTTAR PRADESH</td>\n",
       "      <td>201102</td>\n",
       "    </tr>\n",
       "    <tr>\n",
       "      <th>4</th>\n",
       "      <td>408-5748499-6859555</td>\n",
       "      <td>30-04-2022</td>\n",
       "      <td>Shipped</td>\n",
       "      <td>Amazon</td>\n",
       "      <td>Amazon.in</td>\n",
       "      <td>Expedited</td>\n",
       "      <td>J0095</td>\n",
       "      <td>J0095-SET-L</td>\n",
       "      <td>Set</td>\n",
       "      <td>L</td>\n",
       "      <td>B08CMHNWBN</td>\n",
       "      <td>Shipped</td>\n",
       "      <td>1</td>\n",
       "      <td>653</td>\n",
       "      <td>CHANDIGARH</td>\n",
       "      <td>CHANDIGARH</td>\n",
       "      <td>160036</td>\n",
       "    </tr>\n",
       "    <tr>\n",
       "      <th>...</th>\n",
       "      <td>...</td>\n",
       "      <td>...</td>\n",
       "      <td>...</td>\n",
       "      <td>...</td>\n",
       "      <td>...</td>\n",
       "      <td>...</td>\n",
       "      <td>...</td>\n",
       "      <td>...</td>\n",
       "      <td>...</td>\n",
       "      <td>...</td>\n",
       "      <td>...</td>\n",
       "      <td>...</td>\n",
       "      <td>...</td>\n",
       "      <td>...</td>\n",
       "      <td>...</td>\n",
       "      <td>...</td>\n",
       "      <td>...</td>\n",
       "    </tr>\n",
       "    <tr>\n",
       "      <th>106083</th>\n",
       "      <td>403-6094171-8832305</td>\n",
       "      <td>06-02-2022</td>\n",
       "      <td>Shipped - Delivered to Buyer</td>\n",
       "      <td>Merchant</td>\n",
       "      <td>Amazon.in</td>\n",
       "      <td>Expedited</td>\n",
       "      <td>SET291</td>\n",
       "      <td>SET291-KR-PP-L</td>\n",
       "      <td>Set</td>\n",
       "      <td>L</td>\n",
       "      <td>B099NJKJ54</td>\n",
       "      <td>Shipped</td>\n",
       "      <td>1</td>\n",
       "      <td>517</td>\n",
       "      <td>NAVI MUMBAI</td>\n",
       "      <td>MAHARASHTRA</td>\n",
       "      <td>410210</td>\n",
       "    </tr>\n",
       "    <tr>\n",
       "      <th>106084</th>\n",
       "      <td>407-9812499-5444306</td>\n",
       "      <td>06-02-2022</td>\n",
       "      <td>Shipped</td>\n",
       "      <td>Amazon</td>\n",
       "      <td>Amazon.in</td>\n",
       "      <td>Expedited</td>\n",
       "      <td>J0244</td>\n",
       "      <td>J0244-SKD-L</td>\n",
       "      <td>Set</td>\n",
       "      <td>L</td>\n",
       "      <td>B0925WM8Z6</td>\n",
       "      <td>Shipped</td>\n",
       "      <td>1</td>\n",
       "      <td>999</td>\n",
       "      <td>TURA</td>\n",
       "      <td>MEGHALAYA</td>\n",
       "      <td>794001</td>\n",
       "    </tr>\n",
       "    <tr>\n",
       "      <th>106085</th>\n",
       "      <td>407-6586256-5693922</td>\n",
       "      <td>06-02-2022</td>\n",
       "      <td>Shipped</td>\n",
       "      <td>Amazon</td>\n",
       "      <td>Amazon.in</td>\n",
       "      <td>Expedited</td>\n",
       "      <td>MEN5004</td>\n",
       "      <td>MEN5004-KR-XXL</td>\n",
       "      <td>kurta</td>\n",
       "      <td>XXL</td>\n",
       "      <td>B08YZ16M9S</td>\n",
       "      <td>Shipped</td>\n",
       "      <td>1</td>\n",
       "      <td>690</td>\n",
       "      <td>Gurgaon</td>\n",
       "      <td>HARYANA</td>\n",
       "      <td>122002</td>\n",
       "    </tr>\n",
       "    <tr>\n",
       "      <th>106086</th>\n",
       "      <td>407-9472434-7231543</td>\n",
       "      <td>06-02-2022</td>\n",
       "      <td>Shipped</td>\n",
       "      <td>Amazon</td>\n",
       "      <td>Amazon.in</td>\n",
       "      <td>Expedited</td>\n",
       "      <td>SET405</td>\n",
       "      <td>SET405-KR-NP-XS</td>\n",
       "      <td>Set</td>\n",
       "      <td>XS</td>\n",
       "      <td>B09QJ399Q3</td>\n",
       "      <td>Shipped</td>\n",
       "      <td>1</td>\n",
       "      <td>1199</td>\n",
       "      <td>MUMBAI</td>\n",
       "      <td>MAHARASHTRA</td>\n",
       "      <td>400056</td>\n",
       "    </tr>\n",
       "    <tr>\n",
       "      <th>106087</th>\n",
       "      <td>408-2769269-8596343</td>\n",
       "      <td>06-02-2022</td>\n",
       "      <td>Shipped</td>\n",
       "      <td>Amazon</td>\n",
       "      <td>Amazon.in</td>\n",
       "      <td>Expedited</td>\n",
       "      <td>JNE3691</td>\n",
       "      <td>JNE3691-TU-XXL</td>\n",
       "      <td>Top</td>\n",
       "      <td>XXL</td>\n",
       "      <td>B0986YR2M9</td>\n",
       "      <td>Shipped</td>\n",
       "      <td>1</td>\n",
       "      <td>696</td>\n",
       "      <td>MUMBAI</td>\n",
       "      <td>MAHARASHTRA</td>\n",
       "      <td>400051</td>\n",
       "    </tr>\n",
       "  </tbody>\n",
       "</table>\n",
       "<p>106088 rows × 17 columns</p>\n",
       "</div>"
      ],
      "text/plain": [
       "                   Order ID        Date                        Status  \\\n",
       "0       171-9198151-1101146  30-04-2022  Shipped - Delivered to Buyer   \n",
       "1       404-0687676-7273146  30-04-2022                       Shipped   \n",
       "2       407-1069790-7240320  30-04-2022                       Shipped   \n",
       "3       404-1490984-4578765  30-04-2022                       Shipped   \n",
       "4       408-5748499-6859555  30-04-2022                       Shipped   \n",
       "...                     ...         ...                           ...   \n",
       "106083  403-6094171-8832305  06-02-2022  Shipped - Delivered to Buyer   \n",
       "106084  407-9812499-5444306  06-02-2022                       Shipped   \n",
       "106085  407-6586256-5693922  06-02-2022                       Shipped   \n",
       "106086  407-9472434-7231543  06-02-2022                       Shipped   \n",
       "106087  408-2769269-8596343  06-02-2022                       Shipped   \n",
       "\n",
       "       Fulfilment Sales Channel  ship-service-level    Style              SKU  \\\n",
       "0        Merchant      Amazon.in           Standard  JNE3781  JNE3781-KR-XXXL   \n",
       "1          Amazon      Amazon.in          Expedited  JNE3371    JNE3371-KR-XL   \n",
       "2          Amazon      Amazon.in          Expedited  JNE3671  JNE3671-TU-XXXL   \n",
       "3          Amazon      Amazon.in          Expedited   SET264  SET264-KR-NP-XL   \n",
       "4          Amazon      Amazon.in          Expedited    J0095      J0095-SET-L   \n",
       "...           ...            ...                ...      ...              ...   \n",
       "106083   Merchant      Amazon.in          Expedited   SET291   SET291-KR-PP-L   \n",
       "106084     Amazon      Amazon.in          Expedited    J0244      J0244-SKD-L   \n",
       "106085     Amazon      Amazon.in          Expedited  MEN5004   MEN5004-KR-XXL   \n",
       "106086     Amazon      Amazon.in          Expedited   SET405  SET405-KR-NP-XS   \n",
       "106087     Amazon      Amazon.in          Expedited  JNE3691   JNE3691-TU-XXL   \n",
       "\n",
       "       Category Size        ASIN Courier Status  Qty  Amount    ship-city  \\\n",
       "0         kurta  3XL  B09K3WFS32        Shipped    1     406    BENGALURU   \n",
       "1         kurta   XL  B07WV4JV4D        Shipped    1     329  NAVI MUMBAI   \n",
       "2           Top  3XL  B098714BZP        Shipped    1     574      CHENNAI   \n",
       "3           Set   XL  B08YN7XDSG        Shipped    1     824    GHAZIABAD   \n",
       "4           Set    L  B08CMHNWBN        Shipped    1     653   CHANDIGARH   \n",
       "...         ...  ...         ...            ...  ...     ...          ...   \n",
       "106083      Set    L  B099NJKJ54        Shipped    1     517  NAVI MUMBAI   \n",
       "106084      Set    L  B0925WM8Z6        Shipped    1     999         TURA   \n",
       "106085    kurta  XXL  B08YZ16M9S        Shipped    1     690      Gurgaon   \n",
       "106086      Set   XS  B09QJ399Q3        Shipped    1    1199       MUMBAI   \n",
       "106087      Top  XXL  B0986YR2M9        Shipped    1     696       MUMBAI   \n",
       "\n",
       "           ship-state  ship-postal-code  \n",
       "0           KARNATAKA            560085  \n",
       "1         MAHARASHTRA            410210  \n",
       "2          TAMIL NADU            600073  \n",
       "3       UTTAR PRADESH            201102  \n",
       "4          CHANDIGARH            160036  \n",
       "...               ...               ...  \n",
       "106083    MAHARASHTRA            410210  \n",
       "106084      MEGHALAYA            794001  \n",
       "106085        HARYANA            122002  \n",
       "106086    MAHARASHTRA            400056  \n",
       "106087    MAHARASHTRA            400051  \n",
       "\n",
       "[106088 rows x 17 columns]"
      ]
     },
     "execution_count": 4,
     "metadata": {},
     "output_type": "execute_result"
    }
   ],
   "source": [
    "data"
   ]
  },
  {
   "cell_type": "code",
   "execution_count": 6,
   "id": "1cf7def0",
   "metadata": {},
   "outputs": [
    {
     "data": {
      "text/plain": [
       "Order ID              object\n",
       "Date                  object\n",
       "Status                object\n",
       "Fulfilment            object\n",
       "Sales Channel         object\n",
       "ship-service-level    object\n",
       "Style                 object\n",
       "SKU                   object\n",
       "Category              object\n",
       "Size                  object\n",
       "ASIN                  object\n",
       "Courier Status        object\n",
       "Qty                    int64\n",
       "Amount                 int64\n",
       "ship-city             object\n",
       "ship-state            object\n",
       "ship-postal-code       int64\n",
       "dtype: object"
      ]
     },
     "execution_count": 6,
     "metadata": {},
     "output_type": "execute_result"
    }
   ],
   "source": [
    "data.dtypes"
   ]
  },
  {
   "cell_type": "code",
   "execution_count": 7,
   "id": "bbfb625f",
   "metadata": {},
   "outputs": [],
   "source": [
    "timefmt = \"%d-%m-%Y\"\n",
    "data['Date'] = pd.to_datetime(data['Date'], format= timefmt, errors ='coerce')"
   ]
  },
  {
   "cell_type": "code",
   "execution_count": 8,
   "id": "6740cbd9",
   "metadata": {},
   "outputs": [
    {
     "data": {
      "text/plain": [
       "Order ID                      object\n",
       "Date                  datetime64[ns]\n",
       "Status                        object\n",
       "Fulfilment                    object\n",
       "Sales Channel                 object\n",
       "ship-service-level            object\n",
       "Style                         object\n",
       "SKU                           object\n",
       "Category                      object\n",
       "Size                          object\n",
       "ASIN                          object\n",
       "Courier Status                object\n",
       "Qty                            int64\n",
       "Amount                         int64\n",
       "ship-city                     object\n",
       "ship-state                    object\n",
       "ship-postal-code               int64\n",
       "dtype: object"
      ]
     },
     "execution_count": 8,
     "metadata": {},
     "output_type": "execute_result"
    }
   ],
   "source": [
    "data.dtypes"
   ]
  },
  {
   "cell_type": "code",
   "execution_count": 9,
   "id": "198d5a63",
   "metadata": {},
   "outputs": [
    {
     "data": {
      "text/plain": [
       "Index(['Order ID', 'Date', 'Status', 'Fulfilment', 'Sales Channel ',\n",
       "       'ship-service-level', 'Style', 'SKU', 'Category', 'Size', 'ASIN',\n",
       "       'Courier Status', 'Qty', 'Amount', 'ship-city', 'ship-state',\n",
       "       'ship-postal-code'],\n",
       "      dtype='object')"
      ]
     },
     "execution_count": 9,
     "metadata": {},
     "output_type": "execute_result"
    }
   ],
   "source": [
    "data.columns"
   ]
  },
  {
   "cell_type": "code",
   "execution_count": 10,
   "id": "62ba40a4",
   "metadata": {},
   "outputs": [
    {
     "data": {
      "text/plain": [
       "Order ID              0\n",
       "Date                  0\n",
       "Status                0\n",
       "Fulfilment            0\n",
       "Sales Channel         0\n",
       "ship-service-level    0\n",
       "Style                 0\n",
       "SKU                   0\n",
       "Category              0\n",
       "Size                  0\n",
       "ASIN                  0\n",
       "Courier Status        0\n",
       "Qty                   0\n",
       "Amount                0\n",
       "ship-city             0\n",
       "ship-state            0\n",
       "ship-postal-code      0\n",
       "dtype: int64"
      ]
     },
     "execution_count": 10,
     "metadata": {},
     "output_type": "execute_result"
    }
   ],
   "source": [
    "data.isnull().sum()"
   ]
  },
  {
   "cell_type": "code",
   "execution_count": 11,
   "id": "cde28890",
   "metadata": {},
   "outputs": [
    {
     "data": {
      "text/html": [
       "<div>\n",
       "<style scoped>\n",
       "    .dataframe tbody tr th:only-of-type {\n",
       "        vertical-align: middle;\n",
       "    }\n",
       "\n",
       "    .dataframe tbody tr th {\n",
       "        vertical-align: top;\n",
       "    }\n",
       "\n",
       "    .dataframe thead th {\n",
       "        text-align: right;\n",
       "    }\n",
       "</style>\n",
       "<table border=\"1\" class=\"dataframe\">\n",
       "  <thead>\n",
       "    <tr style=\"text-align: right;\">\n",
       "      <th></th>\n",
       "      <th>Order ID</th>\n",
       "      <th>Date</th>\n",
       "      <th>Status</th>\n",
       "      <th>Fulfilment</th>\n",
       "      <th>Sales Channel</th>\n",
       "      <th>ship-service-level</th>\n",
       "      <th>Style</th>\n",
       "      <th>SKU</th>\n",
       "      <th>Category</th>\n",
       "      <th>Size</th>\n",
       "      <th>ASIN</th>\n",
       "      <th>Courier Status</th>\n",
       "      <th>Qty</th>\n",
       "      <th>Amount</th>\n",
       "      <th>ship-city</th>\n",
       "      <th>ship-state</th>\n",
       "      <th>ship-postal-code</th>\n",
       "    </tr>\n",
       "  </thead>\n",
       "  <tbody>\n",
       "  </tbody>\n",
       "</table>\n",
       "</div>"
      ],
      "text/plain": [
       "Empty DataFrame\n",
       "Columns: [Order ID, Date, Status, Fulfilment, Sales Channel , ship-service-level, Style, SKU, Category, Size, ASIN, Courier Status, Qty, Amount, ship-city, ship-state, ship-postal-code]\n",
       "Index: []"
      ]
     },
     "execution_count": 11,
     "metadata": {},
     "output_type": "execute_result"
    }
   ],
   "source": [
    "data[data.duplicated()]"
   ]
  },
  {
   "cell_type": "markdown",
   "id": "4a03cb1a",
   "metadata": {},
   "source": [
    "# Which is highly preferred 'Fulfilment' process?"
   ]
  },
  {
   "cell_type": "code",
   "execution_count": 12,
   "id": "20ebd126",
   "metadata": {},
   "outputs": [
    {
     "data": {
      "text/plain": [
       "Fulfilment\n",
       "Amazon      76636\n",
       "Merchant    29452\n",
       "Name: count, dtype: int64"
      ]
     },
     "execution_count": 12,
     "metadata": {},
     "output_type": "execute_result"
    }
   ],
   "source": [
    "data['Fulfilment'].value_counts()"
   ]
  },
  {
   "cell_type": "code",
   "execution_count": 13,
   "id": "4c464e78",
   "metadata": {},
   "outputs": [
    {
     "data": {
      "text/plain": [
       "<Axes: xlabel='Fulfilment'>"
      ]
     },
     "execution_count": 13,
     "metadata": {},
     "output_type": "execute_result"
    },
    {
     "data": {
      "image/png": "[encoded data removed]",
      "text/plain": [
       "<Figure size 900x500 with 1 Axes>"
      ]
     },
     "metadata": {
      "needs_background": "light"
     },
     "output_type": "display_data"
    }
   ],
   "source": [
    "data['Fulfilment'].value_counts().plot(kind='bar')"
   ]
  },
  {
   "cell_type": "markdown",
   "id": "8da43439",
   "metadata": {},
   "source": [
    "# Which is the Category ordered in highest Quantity?"
   ]
  },
  {
   "cell_type": "code",
   "execution_count": 14,
   "id": "b2fb496d",
   "metadata": {},
   "outputs": [
    {
     "data": {
      "text/plain": [
       "Category\n",
       "Set              41579\n",
       "kurta            40558\n",
       "Western Dress    12936\n",
       "Top               9149\n",
       "Ethnic Dress       958\n",
       "Blouse             818\n",
       "Bottom             360\n",
       "Saree              128\n",
       "Dupatta              1\n",
       "Name: Qty, dtype: int64"
      ]
     },
     "execution_count": 14,
     "metadata": {},
     "output_type": "execute_result"
    }
   ],
   "source": [
    "data.groupby('Category').Qty.sum().sort_values(ascending=False)"
   ]
  },
  {
   "cell_type": "code",
   "execution_count": 15,
   "id": "4466f90b",
   "metadata": {},
   "outputs": [
    {
     "data": {
      "image/png": "[encoded data removed]",
      "text/plain": [
       "<Figure size 900x500 with 1 Axes>"
      ]
     },
     "metadata": {
      "needs_background": "light"
     },
     "output_type": "display_data"
    }
   ],
   "source": [
    "sns.barplot(x=data['Category'].value_counts(), y=data['Category'].value_counts().index, data=data, orient='h')\n",
    "plt.show()"
   ]
  },
  {
   "cell_type": "markdown",
   "id": "7844468a",
   "metadata": {},
   "source": [
    "# Which Month has the highest no of orders?"
   ]
  },
  {
   "cell_type": "code",
   "execution_count": 16,
   "id": "fd2205d2",
   "metadata": {},
   "outputs": [],
   "source": [
    "data['Month'] = data.Date.dt.month"
   ]
  },
  {
   "cell_type": "code",
   "execution_count": 17,
   "id": "e25fcd53",
   "metadata": {},
   "outputs": [
    {
     "data": {
      "text/plain": [
       "Month\n",
       "4     29262\n",
       "5     23659\n",
       "6     20712\n",
       "3      4365\n",
       "8      3981\n",
       "7      3791\n",
       "9      3769\n",
       "10     3578\n",
       "12     3481\n",
       "11     3459\n",
       "2      3283\n",
       "1      2748\n",
       "Name: count, dtype: int64"
      ]
     },
     "execution_count": 17,
     "metadata": {},
     "output_type": "execute_result"
    }
   ],
   "source": [
    "data.Month.value_counts()"
   ]
  },
  {
   "cell_type": "code",
   "execution_count": 33,
   "id": "8b710d7c",
   "metadata": {},
   "outputs": [
    {
     "data": {
      "image/png": "[encoded data removed]",
      "text/plain": [
       "<Figure size 900x500 with 1 Axes>"
      ]
     },
     "metadata": {
      "needs_background": "light"
     },
     "output_type": "display_data"
    }
   ],
   "source": [
    "data['Month'].value_counts().plot(kind='bar')\n",
    "plt.xticks(rotation=0);"
   ]
  },
  {
   "cell_type": "markdown",
   "id": "0a6089a5",
   "metadata": {},
   "source": [
    "# Count different size of clothings purchased in each category"
   ]
  },
  {
   "cell_type": "code",
   "execution_count": 19,
   "id": "7f4d7d4b",
   "metadata": {},
   "outputs": [
    {
     "data": {
      "text/plain": [
       "Category       Size\n",
       "Set            M       7755\n",
       "kurta          L       7205\n",
       "               XL      7067\n",
       "               M       6971\n",
       "Set            L       6788\n",
       "               XL      6305\n",
       "kurta          XXL     6225\n",
       "Set            S       6190\n",
       "               XXL     5101\n",
       "               3XL     4746\n",
       "kurta          S       4640\n",
       "               3XL     4546\n",
       "Set            XS      4430\n",
       "kurta          XS      2443\n",
       "Western Dress  L       2366\n",
       "               M       2166\n",
       "               XL      1954\n",
       "               S       1825\n",
       "               XXL     1801\n",
       "               3XL     1605\n",
       "Top            XL      1590\n",
       "               XXL     1570\n",
       "               M       1564\n",
       "               L       1513\n",
       "Western Dress  XS      1185\n",
       "Top            S       1061\n",
       "               3XL     1013\n",
       "               XS       808\n",
       "kurta          6XL      545\n",
       "               5XL      413\n",
       "               4XL      306\n",
       "Blouse         Free     181\n",
       "Ethnic Dress   XL       162\n",
       "               L        150\n",
       "               M        150\n",
       "               3XL      147\n",
       "               S        139\n",
       "               XXL      135\n",
       "Blouse         M        131\n",
       "Saree          Free     125\n",
       "Blouse         S        122\n",
       "               L        119\n",
       "               XXL      115\n",
       "               XL       107\n",
       "Ethnic Dress   XS        73\n",
       "Set            6XL       65\n",
       "Bottom         S         65\n",
       "               XL        57\n",
       "               L         56\n",
       "               3XL       55\n",
       "               XXL       55\n",
       "Set            5XL       51\n",
       "Bottom         M         45\n",
       "Set            4XL       40\n",
       "Bottom         XS        24\n",
       "Blouse         XS        21\n",
       "Dupatta        Free       1\n",
       "Name: count, dtype: int64"
      ]
     },
     "execution_count": 19,
     "metadata": {},
     "output_type": "execute_result"
    }
   ],
   "source": [
    "data.groupby('Category').Size.value_counts().sort_values(ascending=False)"
   ]
  },
  {
   "cell_type": "code",
   "execution_count": 21,
   "id": "998d05a3",
   "metadata": {},
   "outputs": [
    {
     "data": {
      "image/png": "[encoded data removed]",
      "text/plain": [
       "<Figure size 900x500 with 1 Axes>"
      ]
     },
     "metadata": {
      "needs_background": "light"
     },
     "output_type": "display_data"
    }
   ],
   "source": [
    "sns.barplot(x=data['Size'].value_counts(), y=data['Size'].value_counts().index, data=data, orient='h')\n",
    "plt.show()"
   ]
  },
  {
   "cell_type": "code",
   "execution_count": 20,
   "id": "ba6ff422",
   "metadata": {},
   "outputs": [
    {
     "data": {
      "text/html": [
       "<div>\n",
       "<style scoped>\n",
       "    .dataframe tbody tr th:only-of-type {\n",
       "        vertical-align: middle;\n",
       "    }\n",
       "\n",
       "    .dataframe tbody tr th {\n",
       "        vertical-align: top;\n",
       "    }\n",
       "\n",
       "    .dataframe thead th {\n",
       "        text-align: right;\n",
       "    }\n",
       "</style>\n",
       "<table border=\"1\" class=\"dataframe\">\n",
       "  <thead>\n",
       "    <tr style=\"text-align: right;\">\n",
       "      <th></th>\n",
       "      <th>Order ID</th>\n",
       "      <th>Date</th>\n",
       "      <th>Status</th>\n",
       "      <th>Fulfilment</th>\n",
       "      <th>Sales Channel</th>\n",
       "      <th>ship-service-level</th>\n",
       "      <th>Style</th>\n",
       "      <th>SKU</th>\n",
       "      <th>Category</th>\n",
       "      <th>Size</th>\n",
       "      <th>ASIN</th>\n",
       "      <th>Courier Status</th>\n",
       "      <th>Qty</th>\n",
       "      <th>Amount</th>\n",
       "      <th>ship-city</th>\n",
       "      <th>ship-state</th>\n",
       "      <th>ship-postal-code</th>\n",
       "      <th>Month</th>\n",
       "    </tr>\n",
       "  </thead>\n",
       "  <tbody>\n",
       "    <tr>\n",
       "      <th>0</th>\n",
       "      <td>171-9198151-1101146</td>\n",
       "      <td>2022-04-30</td>\n",
       "      <td>Shipped - Delivered to Buyer</td>\n",
       "      <td>Merchant</td>\n",
       "      <td>Amazon.in</td>\n",
       "      <td>Standard</td>\n",
       "      <td>JNE3781</td>\n",
       "      <td>JNE3781-KR-XXXL</td>\n",
       "      <td>kurta</td>\n",
       "      <td>3XL</td>\n",
       "      <td>B09K3WFS32</td>\n",
       "      <td>Shipped</td>\n",
       "      <td>1</td>\n",
       "      <td>406</td>\n",
       "      <td>BENGALURU</td>\n",
       "      <td>KARNATAKA</td>\n",
       "      <td>560085</td>\n",
       "      <td>4</td>\n",
       "    </tr>\n",
       "    <tr>\n",
       "      <th>1</th>\n",
       "      <td>404-0687676-7273146</td>\n",
       "      <td>2022-04-30</td>\n",
       "      <td>Shipped</td>\n",
       "      <td>Amazon</td>\n",
       "      <td>Amazon.in</td>\n",
       "      <td>Expedited</td>\n",
       "      <td>JNE3371</td>\n",
       "      <td>JNE3371-KR-XL</td>\n",
       "      <td>kurta</td>\n",
       "      <td>XL</td>\n",
       "      <td>B07WV4JV4D</td>\n",
       "      <td>Shipped</td>\n",
       "      <td>1</td>\n",
       "      <td>329</td>\n",
       "      <td>NAVI MUMBAI</td>\n",
       "      <td>MAHARASHTRA</td>\n",
       "      <td>410210</td>\n",
       "      <td>4</td>\n",
       "    </tr>\n",
       "    <tr>\n",
       "      <th>2</th>\n",
       "      <td>407-1069790-7240320</td>\n",
       "      <td>2022-04-30</td>\n",
       "      <td>Shipped</td>\n",
       "      <td>Amazon</td>\n",
       "      <td>Amazon.in</td>\n",
       "      <td>Expedited</td>\n",
       "      <td>JNE3671</td>\n",
       "      <td>JNE3671-TU-XXXL</td>\n",
       "      <td>Top</td>\n",
       "      <td>3XL</td>\n",
       "      <td>B098714BZP</td>\n",
       "      <td>Shipped</td>\n",
       "      <td>1</td>\n",
       "      <td>574</td>\n",
       "      <td>CHENNAI</td>\n",
       "      <td>TAMIL NADU</td>\n",
       "      <td>600073</td>\n",
       "      <td>4</td>\n",
       "    </tr>\n",
       "    <tr>\n",
       "      <th>3</th>\n",
       "      <td>404-1490984-4578765</td>\n",
       "      <td>2022-04-30</td>\n",
       "      <td>Shipped</td>\n",
       "      <td>Amazon</td>\n",
       "      <td>Amazon.in</td>\n",
       "      <td>Expedited</td>\n",
       "      <td>SET264</td>\n",
       "      <td>SET264-KR-NP-XL</td>\n",
       "      <td>Set</td>\n",
       "      <td>XL</td>\n",
       "      <td>B08YN7XDSG</td>\n",
       "      <td>Shipped</td>\n",
       "      <td>1</td>\n",
       "      <td>824</td>\n",
       "      <td>GHAZIABAD</td>\n",
       "      <td>UTTAR PRADESH</td>\n",
       "      <td>201102</td>\n",
       "      <td>4</td>\n",
       "    </tr>\n",
       "    <tr>\n",
       "      <th>4</th>\n",
       "      <td>408-5748499-6859555</td>\n",
       "      <td>2022-04-30</td>\n",
       "      <td>Shipped</td>\n",
       "      <td>Amazon</td>\n",
       "      <td>Amazon.in</td>\n",
       "      <td>Expedited</td>\n",
       "      <td>J0095</td>\n",
       "      <td>J0095-SET-L</td>\n",
       "      <td>Set</td>\n",
       "      <td>L</td>\n",
       "      <td>B08CMHNWBN</td>\n",
       "      <td>Shipped</td>\n",
       "      <td>1</td>\n",
       "      <td>653</td>\n",
       "      <td>CHANDIGARH</td>\n",
       "      <td>CHANDIGARH</td>\n",
       "      <td>160036</td>\n",
       "      <td>4</td>\n",
       "    </tr>\n",
       "    <tr>\n",
       "      <th>...</th>\n",
       "      <td>...</td>\n",
       "      <td>...</td>\n",
       "      <td>...</td>\n",
       "      <td>...</td>\n",
       "      <td>...</td>\n",
       "      <td>...</td>\n",
       "      <td>...</td>\n",
       "      <td>...</td>\n",
       "      <td>...</td>\n",
       "      <td>...</td>\n",
       "      <td>...</td>\n",
       "      <td>...</td>\n",
       "      <td>...</td>\n",
       "      <td>...</td>\n",
       "      <td>...</td>\n",
       "      <td>...</td>\n",
       "      <td>...</td>\n",
       "      <td>...</td>\n",
       "    </tr>\n",
       "    <tr>\n",
       "      <th>106083</th>\n",
       "      <td>403-6094171-8832305</td>\n",
       "      <td>2022-02-06</td>\n",
       "      <td>Shipped - Delivered to Buyer</td>\n",
       "      <td>Merchant</td>\n",
       "      <td>Amazon.in</td>\n",
       "      <td>Expedited</td>\n",
       "      <td>SET291</td>\n",
       "      <td>SET291-KR-PP-L</td>\n",
       "      <td>Set</td>\n",
       "      <td>L</td>\n",
       "      <td>B099NJKJ54</td>\n",
       "      <td>Shipped</td>\n",
       "      <td>1</td>\n",
       "      <td>517</td>\n",
       "      <td>NAVI MUMBAI</td>\n",
       "      <td>MAHARASHTRA</td>\n",
       "      <td>410210</td>\n",
       "      <td>2</td>\n",
       "    </tr>\n",
       "    <tr>\n",
       "      <th>106084</th>\n",
       "      <td>407-9812499-5444306</td>\n",
       "      <td>2022-02-06</td>\n",
       "      <td>Shipped</td>\n",
       "      <td>Amazon</td>\n",
       "      <td>Amazon.in</td>\n",
       "      <td>Expedited</td>\n",
       "      <td>J0244</td>\n",
       "      <td>J0244-SKD-L</td>\n",
       "      <td>Set</td>\n",
       "      <td>L</td>\n",
       "      <td>B0925WM8Z6</td>\n",
       "      <td>Shipped</td>\n",
       "      <td>1</td>\n",
       "      <td>999</td>\n",
       "      <td>TURA</td>\n",
       "      <td>MEGHALAYA</td>\n",
       "      <td>794001</td>\n",
       "      <td>2</td>\n",
       "    </tr>\n",
       "    <tr>\n",
       "      <th>106085</th>\n",
       "      <td>407-6586256-5693922</td>\n",
       "      <td>2022-02-06</td>\n",
       "      <td>Shipped</td>\n",
       "      <td>Amazon</td>\n",
       "      <td>Amazon.in</td>\n",
       "      <td>Expedited</td>\n",
       "      <td>MEN5004</td>\n",
       "      <td>MEN5004-KR-XXL</td>\n",
       "      <td>kurta</td>\n",
       "      <td>XXL</td>\n",
       "      <td>B08YZ16M9S</td>\n",
       "      <td>Shipped</td>\n",
       "      <td>1</td>\n",
       "      <td>690</td>\n",
       "      <td>Gurgaon</td>\n",
       "      <td>HARYANA</td>\n",
       "      <td>122002</td>\n",
       "      <td>2</td>\n",
       "    </tr>\n",
       "    <tr>\n",
       "      <th>106086</th>\n",
       "      <td>407-9472434-7231543</td>\n",
       "      <td>2022-02-06</td>\n",
       "      <td>Shipped</td>\n",
       "      <td>Amazon</td>\n",
       "      <td>Amazon.in</td>\n",
       "      <td>Expedited</td>\n",
       "      <td>SET405</td>\n",
       "      <td>SET405-KR-NP-XS</td>\n",
       "      <td>Set</td>\n",
       "      <td>XS</td>\n",
       "      <td>B09QJ399Q3</td>\n",
       "      <td>Shipped</td>\n",
       "      <td>1</td>\n",
       "      <td>1199</td>\n",
       "      <td>MUMBAI</td>\n",
       "      <td>MAHARASHTRA</td>\n",
       "      <td>400056</td>\n",
       "      <td>2</td>\n",
       "    </tr>\n",
       "    <tr>\n",
       "      <th>106087</th>\n",
       "      <td>408-2769269-8596343</td>\n",
       "      <td>2022-02-06</td>\n",
       "      <td>Shipped</td>\n",
       "      <td>Amazon</td>\n",
       "      <td>Amazon.in</td>\n",
       "      <td>Expedited</td>\n",
       "      <td>JNE3691</td>\n",
       "      <td>JNE3691-TU-XXL</td>\n",
       "      <td>Top</td>\n",
       "      <td>XXL</td>\n",
       "      <td>B0986YR2M9</td>\n",
       "      <td>Shipped</td>\n",
       "      <td>1</td>\n",
       "      <td>696</td>\n",
       "      <td>MUMBAI</td>\n",
       "      <td>MAHARASHTRA</td>\n",
       "      <td>400051</td>\n",
       "      <td>2</td>\n",
       "    </tr>\n",
       "  </tbody>\n",
       "</table>\n",
       "<p>106088 rows × 18 columns</p>\n",
       "</div>"
      ],
      "text/plain": [
       "                   Order ID       Date                        Status  \\\n",
       "0       171-9198151-1101146 2022-04-30  Shipped - Delivered to Buyer   \n",
       "1       404-0687676-7273146 2022-04-30                       Shipped   \n",
       "2       407-1069790-7240320 2022-04-30                       Shipped   \n",
       "3       404-1490984-4578765 2022-04-30                       Shipped   \n",
       "4       408-5748499-6859555 2022-04-30                       Shipped   \n",
       "...                     ...        ...                           ...   \n",
       "106083  403-6094171-8832305 2022-02-06  Shipped - Delivered to Buyer   \n",
       "106084  407-9812499-5444306 2022-02-06                       Shipped   \n",
       "106085  407-6586256-5693922 2022-02-06                       Shipped   \n",
       "106086  407-9472434-7231543 2022-02-06                       Shipped   \n",
       "106087  408-2769269-8596343 2022-02-06                       Shipped   \n",
       "\n",
       "       Fulfilment Sales Channel  ship-service-level    Style              SKU  \\\n",
       "0        Merchant      Amazon.in           Standard  JNE3781  JNE3781-KR-XXXL   \n",
       "1          Amazon      Amazon.in          Expedited  JNE3371    JNE3371-KR-XL   \n",
       "2          Amazon      Amazon.in          Expedited  JNE3671  JNE3671-TU-XXXL   \n",
       "3          Amazon      Amazon.in          Expedited   SET264  SET264-KR-NP-XL   \n",
       "4          Amazon      Amazon.in          Expedited    J0095      J0095-SET-L   \n",
       "...           ...            ...                ...      ...              ...   \n",
       "106083   Merchant      Amazon.in          Expedited   SET291   SET291-KR-PP-L   \n",
       "106084     Amazon      Amazon.in          Expedited    J0244      J0244-SKD-L   \n",
       "106085     Amazon      Amazon.in          Expedited  MEN5004   MEN5004-KR-XXL   \n",
       "106086     Amazon      Amazon.in          Expedited   SET405  SET405-KR-NP-XS   \n",
       "106087     Amazon      Amazon.in          Expedited  JNE3691   JNE3691-TU-XXL   \n",
       "\n",
       "       Category Size        ASIN Courier Status  Qty  Amount    ship-city  \\\n",
       "0         kurta  3XL  B09K3WFS32        Shipped    1     406    BENGALURU   \n",
       "1         kurta   XL  B07WV4JV4D        Shipped    1     329  NAVI MUMBAI   \n",
       "2           Top  3XL  B098714BZP        Shipped    1     574      CHENNAI   \n",
       "3           Set   XL  B08YN7XDSG        Shipped    1     824    GHAZIABAD   \n",
       "4           Set    L  B08CMHNWBN        Shipped    1     653   CHANDIGARH   \n",
       "...         ...  ...         ...            ...  ...     ...          ...   \n",
       "106083      Set    L  B099NJKJ54        Shipped    1     517  NAVI MUMBAI   \n",
       "106084      Set    L  B0925WM8Z6        Shipped    1     999         TURA   \n",
       "106085    kurta  XXL  B08YZ16M9S        Shipped    1     690      Gurgaon   \n",
       "106086      Set   XS  B09QJ399Q3        Shipped    1    1199       MUMBAI   \n",
       "106087      Top  XXL  B0986YR2M9        Shipped    1     696       MUMBAI   \n",
       "\n",
       "           ship-state  ship-postal-code  Month  \n",
       "0           KARNATAKA            560085      4  \n",
       "1         MAHARASHTRA            410210      4  \n",
       "2          TAMIL NADU            600073      4  \n",
       "3       UTTAR PRADESH            201102      4  \n",
       "4          CHANDIGARH            160036      4  \n",
       "...               ...               ...    ...  \n",
       "106083    MAHARASHTRA            410210      2  \n",
       "106084      MEGHALAYA            794001      2  \n",
       "106085        HARYANA            122002      2  \n",
       "106086    MAHARASHTRA            400056      2  \n",
       "106087    MAHARASHTRA            400051      2  \n",
       "\n",
       "[106088 rows x 18 columns]"
      ]
     },
     "execution_count": 20,
     "metadata": {},
     "output_type": "execute_result"
    }
   ],
   "source": [
    "data"
   ]
  },
  {
   "cell_type": "code",
   "execution_count": 22,
   "id": "0abc0edf",
   "metadata": {},
   "outputs": [],
   "source": [
    "import seaborn as sns\n",
    "import matplotlib\n",
    "import matplotlib.pyplot as plt\n",
    "%matplotlib inline"
   ]
  },
  {
   "cell_type": "markdown",
   "id": "44eeaa01",
   "metadata": {},
   "source": [
    "# Find the distribution of courier status"
   ]
  },
  {
   "cell_type": "code",
   "execution_count": 23,
   "id": "0a08463b",
   "metadata": {},
   "outputs": [
    {
     "data": {
      "text/plain": [
       "Courier Status\n",
       "Shipped      100043\n",
       "Unshipped      6045\n",
       "Name: count, dtype: int64"
      ]
     },
     "execution_count": 23,
     "metadata": {},
     "output_type": "execute_result"
    }
   ],
   "source": [
    "CourierStatus_counts = data['Courier Status'].value_counts() #counts(dropna=False) for nan\n",
    "CourierStatus_counts"
   ]
  },
  {
   "cell_type": "code",
   "execution_count": 24,
   "id": "f15b874a",
   "metadata": {},
   "outputs": [
    {
     "data": {
      "image/png": "[encoded data removed]",
      "text/plain": [
       "<Figure size 900x500 with 1 Axes>"
      ]
     },
     "metadata": {},
     "output_type": "display_data"
    }
   ],
   "source": [
    "plt.pie(CourierStatus_counts, labels=CourierStatus_counts.index, autopct='%1.1f%%', startangle=80);"
   ]
  },
  {
   "cell_type": "markdown",
   "id": "894d1e84",
   "metadata": {},
   "source": [
    "# Which are top 10 States with highest number of sales?"
   ]
  },
  {
   "cell_type": "code",
   "execution_count": 28,
   "id": "688f7c57",
   "metadata": {},
   "outputs": [
    {
     "data": {
      "text/plain": [
       "ship-state\n",
       "MAHARASHTRA       18537\n",
       "KARNATAKA         14501\n",
       "TAMIL NADU         9422\n",
       "TELANGANA          9308\n",
       "UTTAR PRADESH      8667\n",
       "DELHI              5601\n",
       "KERALA             5304\n",
       "WEST BENGAL        4872\n",
       "ANDHRA PRADESH     4358\n",
       "GUJARAT            3738\n",
       "Name: count, dtype: int64"
      ]
     },
     "execution_count": 28,
     "metadata": {},
     "output_type": "execute_result"
    }
   ],
   "source": [
    "data['ship-state'].value_counts().head(10)"
   ]
  },
  {
   "cell_type": "markdown",
   "id": "562c906a",
   "metadata": {},
   "source": [
    "# Find the distribution for Ship Service Level"
   ]
  },
  {
   "cell_type": "code",
   "execution_count": 31,
   "id": "976f720b",
   "metadata": {},
   "outputs": [
    {
     "data": {
      "text/plain": [
       "ship-service-level\n",
       "Expedited    75725\n",
       "Standard     30363\n",
       "Name: count, dtype: int64"
      ]
     },
     "execution_count": 31,
     "metadata": {},
     "output_type": "execute_result"
    }
   ],
   "source": [
    "data['ship-service-level'].value_counts()"
   ]
  },
  {
   "cell_type": "code",
   "execution_count": 32,
   "id": "552a5aba",
   "metadata": {},
   "outputs": [
    {
     "data": {
      "image/png": "[encoded data removed]",
      "text/plain": [
       "<Figure size 900x500 with 1 Axes>"
      ]
     },
     "metadata": {
      "needs_background": "light"
     },
     "output_type": "display_data"
    }
   ],
   "source": [
    "data['ship-service-level'].value_counts().plot(kind='bar')\n",
    "plt.xticks(rotation=0);"
   ]
  },
  {
   "cell_type": "markdown",
   "id": "bc163ee5",
   "metadata": {},
   "source": [
    "# Which product generated the highest revenue?"
   ]
  },
  {
   "cell_type": "code",
   "execution_count": 34,
   "id": "afdebbdc",
   "metadata": {},
   "outputs": [
    {
     "data": {
      "text/plain": [
       "Category\n",
       "Set              27562162\n",
       "kurta            26611680\n",
       "Western Dress     8681882\n",
       "Top               6031229\n",
       "Ethnic Dress       637723\n",
       "Blouse             523043\n",
       "Bottom             241380\n",
       "Saree               85955\n",
       "Dupatta               702\n",
       "Name: Amount, dtype: int64"
      ]
     },
     "execution_count": 34,
     "metadata": {},
     "output_type": "execute_result"
    }
   ],
   "source": [
    "data.groupby('Category').Amount.sum().sort_values(ascending=False)"
   ]
  },
  {
   "cell_type": "markdown",
   "id": "26b5815d",
   "metadata": {},
   "source": [
    "# Which State generated the highest revenue?"
   ]
  },
  {
   "cell_type": "code",
   "execution_count": 37,
   "id": "80e7fd2e",
   "metadata": {},
   "outputs": [
    {
     "data": {
      "text/plain": [
       "ship-state\n",
       "MAHARASHTRA       12305257\n",
       "KARNATAKA          9610607\n",
       "TAMIL NADU         6275935\n",
       "TELANGANA          6198490\n",
       "UTTAR PRADESH      5739219\n",
       "DELHI              3697624\n",
       "KERALA             3532677\n",
       "WEST BENGAL        3255160\n",
       "ANDHRA PRADESH     2870528\n",
       "GUJARAT            2477877\n",
       "Name: Amount, dtype: int64"
      ]
     },
     "execution_count": 37,
     "metadata": {},
     "output_type": "execute_result"
    }
   ],
   "source": [
    "data.groupby('ship-state').Amount.sum().sort_values(ascending=False).head(10)"
   ]
  },
  {
   "cell_type": "markdown",
   "id": "f3c936b6",
   "metadata": {},
   "source": [
    "# Which City product generated the highest revenue?"
   ]
  },
  {
   "cell_type": "code",
   "execution_count": 38,
   "id": "3613ac6b",
   "metadata": {},
   "outputs": [
    {
     "data": {
      "text/plain": [
       "ship-city\n",
       "BENGALURU                     6290098\n",
       "HYDERABAD                     4440081\n",
       "MUMBAI                        3447244\n",
       "NEW DELHI                     3182374\n",
       "CHENNAI                       2943999\n",
       "                               ...   \n",
       "Krishnaraja nagara, Mysore        259\n",
       "Mayurbhanj                        259\n",
       "Noida sector 76                   259\n",
       "NAGOD                             249\n",
       "Shirdi                            229\n",
       "Name: Amount, Length: 8125, dtype: int64"
      ]
     },
     "execution_count": 38,
     "metadata": {},
     "output_type": "execute_result"
    }
   ],
   "source": [
    "data.groupby[('ship-city','ship-state')].Amount.sum().sort_values(ascending=False)"
   ]
  },
  {
   "cell_type": "code",
   "execution_count": null,
   "id": "c08e6e77",
   "metadata": {},
   "outputs": [],
   "source": []
  }
 ],
 "metadata": {
  "kernelspec": {
   "display_name": "Python 3 (ipykernel)",
   "language": "python",
   "name": "python3"
  },
  "language_info": {
   "codemirror_mode": {
    "name": "ipython",
    "version": 3
   },
   "file_extension": ".py",
   "mimetype": "text/x-python",
   "name": "python",
   "nbconvert_exporter": "python",
   "pygments_lexer": "ipython3",
   "version": "3.11.4"
  }
 },
 "nbformat": 4,
 "nbformat_minor": 5
}
